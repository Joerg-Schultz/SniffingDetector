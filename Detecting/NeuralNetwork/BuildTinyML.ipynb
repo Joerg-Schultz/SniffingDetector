{
 "cells": [
  {
   "cell_type": "code",
   "execution_count": 2,
   "outputs": [],
   "source": [
    "model_name = \"SniffingNetwork\"\n",
    "stage = \"Production\""
   ],
   "metadata": {
    "collapsed": false,
    "pycharm": {
     "name": "#%%\n"
    }
   }
  },
  {
   "cell_type": "code",
   "execution_count": 3,
   "outputs": [],
   "source": [
    "# Code copied from BuildModel_twoOutputNeurons. Maybe merge?\n",
    "import tensorflow_io as tfio\n",
    "from tensorflow.python.ops import gen_audio_ops as audio_ops\n",
    "import tensorflow.experimental.numpy as tnp\n",
    "\n",
    "def generate_spectrogram(file_path, label):\n",
    "    # does not scale as sniffing should be the same independent of background level\n",
    "    audio_tensor = tfio.audio.AudioIOTensor(file_path, dtype=tf.int16)\n",
    "    audio = tf.cast(audio_tensor[:], tf.float32)\n",
    "    spectrogram = audio_ops.audio_spectrogram(audio,\n",
    "                                              window_size=320,\n",
    "                                              stride=160,\n",
    "                                              magnitude_squared=True)\n",
    "    spectrogram = tf.nn.pool(\n",
    "        input=tf.expand_dims(spectrogram, -1),\n",
    "        window_shape=[1, 6],\n",
    "        strides=[1, 6],\n",
    "        pooling_type='AVG',\n",
    "        padding='SAME')\n",
    "    spectrogram = tf.squeeze(spectrogram, axis=0)\n",
    "    # Not sure whether the log is a good idea...\n",
    "    spectrogram = tnp.log10(spectrogram + 1e-6)\n",
    "    return spectrogram, label\n",
    "\n",
    "def prepare_data(dir, value):\n",
    "    filePath = os.path.join(dir, \"*.wav\")\n",
    "    files = tf.data.Dataset.list_files(filePath)\n",
    "    values = tf.zeros(len(files)) if value == 0 else tf.ones(len(files))\n",
    "    data = tf.data.Dataset.zip((files, tf.data.Dataset.from_tensor_slices(values)))\n",
    "    spectrogramData = data.map(generate_spectrogram)\n",
    "    return spectrogramData\n",
    "\n",
    "def batch_prefetch(dataSet):\n",
    "    dataSet = dataSet.batch(16)\n",
    "    dataSet = dataSet.prefetch(8)\n",
    "    return dataSet\n",
    "\n",
    "def generate_binary_dataset(trueDataDir, falseDataDir):\n",
    "    trueData = prepare_data(trueDataDir, 1)\n",
    "    true_number = trueData.cardinality().numpy()\n",
    "    print(f\"Sniffing Datasets: {true_number}\")\n",
    "    falseData = prepare_data(falseDataDir, 0)\n",
    "    false_number = falseData.cardinality().numpy()\n",
    "    print(f\"Background Datasets: {false_number}\")\n",
    "    if correct_class_imbalance:\n",
    "        falseData = falseData.shuffle(false_number).take(true_number)\n",
    "        false_number = falseData.cardinality().numpy()\n",
    "        print(f\"Corrected Background Datasets: {false_number}\")\n",
    "    combinedData = trueData.concatenate(falseData)\n",
    "    combinedData = combinedData.cache()\n",
    "    return combinedData.shuffle(buffer_size=combinedData.cardinality().numpy())\n",
    "\n",
    "def representative_data_gen():\n",
    "    data = generate_binary_dataset(trueDataDir=sniffingDir, falseDataDir=backgroundDir)\n",
    "    train = batch_prefetch(data)\n",
    "    repr_samples, repr_labels = train.as_numpy_iterator().next()\n",
    "    yield [repr_samples]"
   ],
   "metadata": {
    "collapsed": false,
    "pycharm": {
     "name": "#%%\n"
    }
   }
  },
  {
   "cell_type": "code",
   "execution_count": 16,
   "metadata": {
    "collapsed": true,
    "pycharm": {
     "name": "#%%\n"
    }
   },
   "outputs": [
    {
     "name": "stderr",
     "output_type": "stream",
     "text": [
      "WARNING:absl:Found untraced functions such as _jit_compiled_convolution_op, _jit_compiled_convolution_op, _update_step_xla while saving (showing 3 of 3). These functions will not be directly callable after loading.\n"
     ]
    },
    {
     "name": "stdout",
     "output_type": "stream",
     "text": [
      "INFO:tensorflow:Assets written to: C:\\Users\\Joerg\\Documents\\tmp\\SniffingDetector\\Detecting\\NeuralNetwork\\sniffing_model/1/assets\n"
     ]
    },
    {
     "name": "stderr",
     "output_type": "stream",
     "text": [
      "INFO:tensorflow:Assets written to: C:\\Users\\Joerg\\Documents\\tmp\\SniffingDetector\\Detecting\\NeuralNetwork\\sniffing_model/1/assets\n"
     ]
    },
    {
     "name": "stdout",
     "output_type": "stream",
     "text": [
      "Sniffing Datasets: 251\n",
      "Background Datasets: 772\n",
      "Corrected Background Datasets: 251\n"
     ]
    },
    {
     "data": {
      "text/plain": "43504"
     },
     "execution_count": 16,
     "metadata": {},
     "output_type": "execute_result"
    }
   ],
   "source": [
    "import mlflow.keras\n",
    "import os\n",
    "import pathlib\n",
    "import tensorflow as tf\n",
    "\n",
    "correct_class_imbalance = True\n",
    "sniffingDir = \"data/train/Sniffing\"\n",
    "backgroundDir = \"data/train/Background\"\n",
    "\n",
    "model_uri=f\"models:/{model_name}/{stage}\"\n",
    "\n",
    "# TODO Don't make a local copy\n",
    "model = mlflow.keras.load_model(model_uri)\n",
    "savedModelDir = os.path.join(os.getcwd(), \"sniffing_model/1/\")\n",
    "tf.saved_model.save(model, savedModelDir)\n",
    "converter = tf.lite.TFLiteConverter.from_saved_model(savedModelDir)\n",
    "\n",
    "# Post Training Quantization\n",
    "# https://www.tensorflow.org/lite/performance/post_training_quantization\n",
    "# Integer with float fallback (using default float input/output)\n",
    "converter.optimizations = [tf.lite.Optimize.DEFAULT]\n",
    "converter.representative_dataset = representative_data_gen\n",
    "\n",
    "# Integer only\n",
    "# doesn't work here, as I have float32 input and want an output 0<= x <= 1\n",
    "# atomic14_converter.target_spec.supported_ops = [tf.lite.OpsSet.TFLITE_BUILTINS_INT8]\n",
    "# atomic14_converter.inference_input_type = tf.int8  # or tf.uint8\n",
    "# atomic14_converter.inference_output_type = tf.int8\n",
    "\n",
    "tflite_model = converter.convert()\n",
    "\n",
    "tflite_model_file = pathlib.Path('./tflite_models/model.tflite')\n",
    "tflite_model_file.write_bytes(tflite_model)"
   ]
  },
  {
   "cell_type": "code",
   "execution_count": 28,
   "outputs": [
    {
     "name": "stdout",
     "output_type": "stream",
     "text": [
      "Sniffing Datasets: 64\n",
      "Background Datasets: 192\n",
      "Corrected Background Datasets: 64\n",
      "[[0.         0.99609375]]\n",
      "Prediction: [1]\n",
      "Truth: [0. 1. 0. 1. 0. 0. 1. 0. 0. 1. 1. 1. 0. 0. 0. 1.]\n",
      "[[0.90234375 0.09765625]]\n",
      "Prediction: [0]\n",
      "Truth: [0. 0. 1. 1. 1. 0. 1. 0. 1. 0. 1. 0. 0. 0. 0. 1.]\n",
      "[[0.         0.99609375]]\n",
      "Prediction: [1]\n",
      "Truth: [0. 0. 1. 1. 0. 1. 1. 1. 0. 0. 1. 0. 1. 1. 0. 1.]\n",
      "[[0.99609375 0.        ]]\n",
      "Prediction: [0]\n",
      "Truth: [1. 1. 0. 0. 0. 0. 0. 1. 1. 0. 1. 0. 1. 0. 0. 1.]\n",
      "[[0.0078125 0.9921875]]\n",
      "Prediction: [1]\n",
      "Truth: [1. 1. 1. 0. 1. 1. 1. 0. 0. 1. 0. 1. 1. 1. 1. 0.]\n",
      "[[0.99609375 0.        ]]\n",
      "Prediction: [0]\n",
      "Truth: [1. 1. 1. 1. 1. 0. 0. 1. 0. 0. 0. 1. 1. 0. 1. 1.]\n",
      "[[0.625 0.375]]\n",
      "Prediction: [0]\n",
      "Truth: [1. 0. 1. 0. 0. 1. 1. 1. 1. 1. 1. 0. 0. 1. 1. 1.]\n",
      "[[0.         0.99609375]]\n",
      "Prediction: [1]\n",
      "Truth: [1. 1. 0. 0. 1. 0. 0. 0. 1. 0. 1. 0. 1. 1. 0. 0.]\n"
     ]
    },
    {
     "ename": "ZeroDivisionError",
     "evalue": "division by zero",
     "output_type": "error",
     "traceback": [
      "\u001B[1;31m---------------------------------------------------------------------------\u001B[0m",
      "\u001B[1;31mZeroDivisionError\u001B[0m                         Traceback (most recent call last)",
      "Cell \u001B[1;32mIn[28], line 31\u001B[0m\n\u001B[0;32m     28\u001B[0m         num_correct \u001B[38;5;241m+\u001B[39m\u001B[38;5;241m=\u001B[39m np\u001B[38;5;241m.\u001B[39msum(y_pred \u001B[38;5;241m==\u001B[39m y_test)\n\u001B[0;32m     29\u001B[0m         num_total \u001B[38;5;241m+\u001B[39m\u001B[38;5;241m=\u001B[39m \u001B[38;5;28mlen\u001B[39m(y_test)\n\u001B[1;32m---> 31\u001B[0m accuracy \u001B[38;5;241m=\u001B[39m \u001B[43mnum_correct\u001B[49m\u001B[43m \u001B[49m\u001B[38;5;241;43m/\u001B[39;49m\u001B[43m \u001B[49m\u001B[43mnum_total\u001B[49m\n\u001B[0;32m     32\u001B[0m \u001B[38;5;28mprint\u001B[39m(\u001B[38;5;124m'\u001B[39m\u001B[38;5;124mAccuracy: \u001B[39m\u001B[38;5;132;01m{:.2f}\u001B[39;00m\u001B[38;5;124m%\u001B[39m\u001B[38;5;124m'\u001B[39m\u001B[38;5;241m.\u001B[39mformat(accuracy \u001B[38;5;241m*\u001B[39m \u001B[38;5;241m100\u001B[39m))\n",
      "\u001B[1;31mZeroDivisionError\u001B[0m: division by zero"
     ]
    }
   ],
   "source": [
    "import numpy as np\n",
    "\n",
    "interpreter = tf.lite.Interpreter(model_content=tflite_model)\n",
    "interpreter.allocate_tensors()\n",
    "input_details = interpreter.get_input_details()\n",
    "output_details = interpreter.get_output_details()\n",
    "input_index = input_details[0]['index']\n",
    "output_index = output_details[0]['index']\n",
    "\n",
    "# load data\n",
    "testSniffingDir = \"data/test/Sniffing\"\n",
    "testBackgroundDir = \"data/test/Background\"\n",
    "testData = generate_binary_dataset(trueDataDir=testSniffingDir, falseDataDir=testBackgroundDir)\n",
    "testData = batch_prefetch(testData)\n",
    "num_correct = 0\n",
    "num_total = 0\n",
    "for i in range(testData.cardinality().numpy()):\n",
    "    X_test, y_test = testData.as_numpy_iterator().next()\n",
    "    for j in range(len(X_test)):\n",
    "        interpreter.set_tensor(input_index, [X_test[j]])\n",
    "        interpreter.invoke()\n",
    "        tflite_result = interpreter.get_tensor(output_index)\n",
    "        print(tflite_result)\n",
    "        y_pred = np.argmax(tflite_result, axis=-1)\n",
    "        print(f\"Prediction: {y_pred}\")\n",
    "        # TODO here's something really odd going on y_test changes for each j\n",
    "        print(f\"Truth: {y_test}\")\n",
    "        break\n",
    "        num_correct += np.sum(y_pred == y_test)\n",
    "        num_total += len(y_test)\n",
    "\n",
    "accuracy = num_correct / num_total\n",
    "print('Accuracy: {:.2f}%'.format(accuracy * 100))"
   ],
   "metadata": {
    "collapsed": false,
    "pycharm": {
     "name": "#%%\n"
    }
   }
  },
  {
   "cell_type": "markdown",
   "source": [],
   "metadata": {
    "collapsed": false,
    "pycharm": {
     "name": "#%% md\n"
    }
   }
  },
  {
   "cell_type": "markdown",
   "source": [
    "Run xxd -i model.tflite > model_data.cc in git bash\n",
    "or install\n",
    "https://sourceforge.net/projects/xxd-for-windows/"
   ],
   "metadata": {
    "collapsed": false,
    "pycharm": {
     "name": "#%% md\n"
    }
   }
  },
  {
   "cell_type": "code",
   "execution_count": 31,
   "outputs": [],
   "source": [
    "!C:\\Users\\Joerg\\Documents\\Programs\\xxd.exe -i .\\tflite_models\\model.tflite > .\\tflite_models\\model_data.cc"
   ],
   "metadata": {
    "collapsed": false,
    "pycharm": {
     "name": "#%%\n"
    }
   }
  },
  {
   "cell_type": "code",
   "execution_count": null,
   "outputs": [],
   "source": [],
   "metadata": {
    "collapsed": false,
    "pycharm": {
     "name": "#%%\n"
    }
   }
  }
 ],
 "metadata": {
  "kernelspec": {
   "display_name": "Python 3",
   "language": "python",
   "name": "python3"
  },
  "language_info": {
   "codemirror_mode": {
    "name": "ipython",
    "version": 2
   },
   "file_extension": ".py",
   "mimetype": "text/x-python",
   "name": "python",
   "nbconvert_exporter": "python",
   "pygments_lexer": "ipython2",
   "version": "2.7.6"
  }
 },
 "nbformat": 4,
 "nbformat_minor": 0
}