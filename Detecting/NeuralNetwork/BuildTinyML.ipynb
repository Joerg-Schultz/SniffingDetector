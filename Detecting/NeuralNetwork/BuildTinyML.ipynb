{
 "cells": [
  {
   "cell_type": "code",
   "execution_count": 1,
   "outputs": [],
   "source": [
    "model_name = \"SniffingNetwork\"\n",
    "stage = \"Production\"\n",
    "run_name = \"first tiny network\"\n",
    "description = \"First version\""
   ],
   "metadata": {
    "collapsed": false,
    "pycharm": {
     "name": "#%%\n"
    }
   }
  },
  {
   "cell_type": "code",
   "execution_count": 2,
   "outputs": [],
   "source": [
    "# Code copied from BuildModel_twoOutputNeurons. Maybe merge?\n",
    "import tensorflow_io as tfio\n",
    "from tensorflow.python.ops import gen_audio_ops as audio_ops\n",
    "import tensorflow.experimental.numpy as tnp\n",
    "import glob\n",
    "\n",
    "def generate_spectrogram(file_path, label):\n",
    "    # does not scale as sniffing should be the same independent of background level\n",
    "    audio_tensor = tfio.audio.AudioIOTensor(file_path, dtype=tf.int16)\n",
    "    audio = tf.cast(audio_tensor[:], tf.float32)\n",
    "    spectrogram = audio_ops.audio_spectrogram(audio,\n",
    "                                              window_size=320,\n",
    "                                              stride=160,\n",
    "                                              magnitude_squared=True)\n",
    "    spectrogram = tf.nn.pool(\n",
    "        input=tf.expand_dims(spectrogram, -1),\n",
    "        window_shape=[1, 6],\n",
    "        strides=[1, 6],\n",
    "        pooling_type='AVG',\n",
    "        padding='SAME')\n",
    "    spectrogram = tf.squeeze(spectrogram, axis=0)\n",
    "    # Not sure whether the log is a good idea...\n",
    "    spectrogram = tnp.log10(spectrogram + 1e-6)\n",
    "    return spectrogram, label\n",
    "\n",
    "def prepare_data(dir, value):\n",
    "    filePath = os.path.join(dir, \"*.wav\")\n",
    "    files = tf.data.Dataset.list_files(filePath)\n",
    "    values = tf.zeros(len(files)) if value == 0 else tf.ones(len(files))\n",
    "    data = tf.data.Dataset.zip((files, tf.data.Dataset.from_tensor_slices(values)))\n",
    "    spectrogramData = data.map(generate_spectrogram)\n",
    "    return spectrogramData\n",
    "\n",
    "def batch_prefetch(dataSet):\n",
    "    dataSet = dataSet.batch(16)\n",
    "    dataSet = dataSet.prefetch(8)\n",
    "    return dataSet\n",
    "\n",
    "def generate_binary_dataset(trueDataDir, falseDataDir):\n",
    "    trueData = prepare_data(trueDataDir, 1)\n",
    "    true_number = trueData.cardinality().numpy()\n",
    "    print(f\"Sniffing Datasets: {true_number}\")\n",
    "    falseData = prepare_data(falseDataDir, 0)\n",
    "    false_number = falseData.cardinality().numpy()\n",
    "    print(f\"Background Datasets: {false_number}\")\n",
    "    if correct_class_imbalance:\n",
    "        falseData = falseData.shuffle(false_number).take(true_number)\n",
    "        false_number = falseData.cardinality().numpy()\n",
    "        print(f\"Corrected Background Datasets: {false_number}\")\n",
    "    combinedData = trueData.concatenate(falseData)\n",
    "    combinedData = combinedData.cache()\n",
    "    return combinedData.shuffle(buffer_size=combinedData.cardinality().numpy())\n",
    "\n",
    "def representative_data_gen():\n",
    "    data = generate_binary_dataset(trueDataDir=sniffingDir, falseDataDir=backgroundDir)\n",
    "    train = batch_prefetch(data)\n",
    "    repr_samples, repr_labels = train.as_numpy_iterator().next()\n",
    "    yield [repr_samples]"
   ],
   "metadata": {
    "collapsed": false,
    "pycharm": {
     "name": "#%%\n"
    }
   }
  },
  {
   "cell_type": "code",
   "execution_count": 3,
   "metadata": {
    "collapsed": true,
    "pycharm": {
     "name": "#%%\n"
    }
   },
   "outputs": [
    {
     "name": "stderr",
     "output_type": "stream",
     "text": [
      "2023/04/07 12:31:37 INFO mlflow.tracking.fluent: Experiment with name 'tinyML' does not exist. Creating a new experiment.\n",
      "WARNING:absl:Found untraced functions such as _jit_compiled_convolution_op, _jit_compiled_convolution_op, _update_step_xla while saving (showing 3 of 3). These functions will not be directly callable after loading.\n"
     ]
    },
    {
     "name": "stdout",
     "output_type": "stream",
     "text": [
      "INFO:tensorflow:Assets written to: C:\\Users\\Joerg\\Documents\\tmp\\SniffingDetector\\Detecting\\NeuralNetwork\\sniffing_model/1/assets\n"
     ]
    },
    {
     "name": "stderr",
     "output_type": "stream",
     "text": [
      "INFO:tensorflow:Assets written to: C:\\Users\\Joerg\\Documents\\tmp\\SniffingDetector\\Detecting\\NeuralNetwork\\sniffing_model/1/assets\n"
     ]
    },
    {
     "name": "stdout",
     "output_type": "stream",
     "text": [
      "Sniffing Datasets: 251\n",
      "Background Datasets: 772\n",
      "Corrected Background Datasets: 251\n"
     ]
    }
   ],
   "source": [
    "import mlflow.keras\n",
    "import os\n",
    "import pathlib\n",
    "import tensorflow as tf\n",
    "\n",
    "mlflow.set_experiment(\"tinyML\")\n",
    "with mlflow.start_run(run_name=run_name) as run:\n",
    "    run_id = run.info.run_id\n",
    "    model_uri=f\"models:/{model_name}/{stage}\"\n",
    "    mlflow.log_param(\"URI\", model_uri)\n",
    "    mlflow.log_param(\"Description\", description)\n",
    "\n",
    "    correct_class_imbalance = True\n",
    "    sniffingDir = \"data/train/Sniffing\"\n",
    "    backgroundDir = \"data/train/Background\"\n",
    "\n",
    "\n",
    "    # TODO Don't make a local copy\n",
    "    model = mlflow.keras.load_model(model_uri)\n",
    "    savedModelDir = os.path.join(os.getcwd(), \"sniffing_model/1/\")\n",
    "    tf.saved_model.save(model, savedModelDir)\n",
    "    converter = tf.lite.TFLiteConverter.from_saved_model(savedModelDir)\n",
    "\n",
    "    # Post Training Quantization\n",
    "    # https://www.tensorflow.org/lite/performance/post_training_quantization\n",
    "    # Integer with float fallback (using default float input/output)\n",
    "    converter.optimizations = [tf.lite.Optimize.DEFAULT]\n",
    "    converter.representative_dataset = representative_data_gen\n",
    "\n",
    "    # Integer only\n",
    "    # doesn't work here, as I have float32 input and want an output 0<= x <= 1\n",
    "    # atomic14_converter.target_spec.supported_ops = [tf.lite.OpsSet.TFLITE_BUILTINS_INT8]\n",
    "    # atomic14_converter.inference_input_type = tf.int8  # or tf.uint8\n",
    "    # atomic14_converter.inference_output_type = tf.int8\n",
    "\n",
    "    tflite_model = converter.convert()\n",
    "\n",
    "    tflite_model_file = pathlib.Path('./tflite_models/model.tflite')\n",
    "    tflite_model_file.write_bytes(tflite_model)"
   ]
  },
  {
   "cell_type": "markdown",
   "source": [
    "Run xxd -i model.tflite > model_data.cc in git bash\n",
    "or install\n",
    "https://sourceforge.net/projects/xxd-for-windows/"
   ],
   "metadata": {
    "collapsed": false,
    "pycharm": {
     "name": "#%% md\n"
    }
   }
  },
  {
   "cell_type": "code",
   "execution_count": 4,
   "outputs": [],
   "source": [
    "!C:\\Users\\Joerg\\Documents\\Programs\\xxd.exe -i .\\tflite_models\\model.tflite > .\\tflite_models\\model_data.cc"
   ],
   "metadata": {
    "collapsed": false,
    "pycharm": {
     "name": "#%%\n"
    }
   }
  },
  {
   "cell_type": "code",
   "execution_count": 8,
   "outputs": [],
   "source": [
    "# evaluate the model\n",
    "def generate_spectrogram_only(file_path):\n",
    "    # does not scale as sniffing should be the same independent of background level\n",
    "    audio_tensor = tfio.audio.AudioIOTensor(file_path, dtype=tf.int16)\n",
    "    audio = tf.cast(audio_tensor[:], tf.float32)\n",
    "    spectrogram = audio_ops.audio_spectrogram(audio,\n",
    "                                              window_size=320,\n",
    "                                              stride=160,\n",
    "                                              magnitude_squared=True)\n",
    "    spectrogram = tf.nn.pool(\n",
    "        input=tf.expand_dims(spectrogram, -1),\n",
    "        window_shape=[1, 6],\n",
    "        strides=[1, 6],\n",
    "        pooling_type='AVG',\n",
    "        padding='SAME')\n",
    "    spectrogram = tf.squeeze(spectrogram, axis=0)\n",
    "    # Not sure whether the log is a good idea...\n",
    "    spectrogram = tnp.log10(spectrogram + 1e-6)\n",
    "    return spectrogram\n",
    "\n",
    "\n",
    "# make a single based on tflite prediction\n",
    "def make_tflite_prediction(one_second_file):\n",
    "    spectrogram = generate_spectrogram_only(one_second_file)\n",
    "    interpreter.set_tensor(input_index, [spectrogram])\n",
    "    interpreter.invoke()\n",
    "    tflite_result = interpreter.get_tensor(output_index)\n",
    "    return tflite_result\n"
   ],
   "metadata": {
    "collapsed": false,
    "pycharm": {
     "name": "#%%\n"
    }
   }
  },
  {
   "cell_type": "code",
   "execution_count": 9,
   "outputs": [],
   "source": [
    "# prepare tfMicro Interpreter\n",
    "interpreter = tf.lite.Interpreter(model_path=\"./tflite_models/model.tflite\")\n",
    "interpreter.allocate_tensors()\n",
    "input_details = interpreter.get_input_details()\n",
    "output_details = interpreter.get_output_details()\n",
    "input_index = input_details[0]['index']\n",
    "output_index = output_details[0]['index']"
   ],
   "metadata": {
    "collapsed": false,
    "pycharm": {
     "name": "#%%\n"
    }
   }
  },
  {
   "cell_type": "code",
   "execution_count": 10,
   "outputs": [
    {
     "name": "stdout",
     "output_type": "stream",
     "text": [
      "TP: 42 (65.625)\tFP: 50 (26.041666666666668)\n",
      "FN: 22 (34.375)\tTN: 142 (73.95833333333334)\n"
     ]
    }
   ],
   "source": [
    "with mlflow.start_run(run_id=run_id, run_name=run_name) as run:\n",
    "    mlflow.log_artifact('./tflite_models/model_data.cc')\n",
    "    # make predictions for all files\n",
    "    false_positive = 0\n",
    "    false_negative = 0\n",
    "    true_positive = 0\n",
    "    true_negative = 0\n",
    "    cutoff = 0.8\n",
    "    for audio_file in glob.glob(\"./data/test/Background/*.wav\"):\n",
    "        tf_lite_result = make_tflite_prediction(audio_file)[0]\n",
    "        if tf_lite_result[1] > (1 - cutoff):\n",
    "            true_negative += 1\n",
    "        else:\n",
    "            false_positive +=1\n",
    "\n",
    "    for audio_file in glob.glob(\"./data/test/Sniffing/*.wav\"):\n",
    "        tf_lite_result = make_tflite_prediction(audio_file)[0]\n",
    "        if tf_lite_result[0] > cutoff:\n",
    "            true_positive += 1\n",
    "        else:\n",
    "            false_negative +=1\n",
    "\n",
    "    tp_rate = true_positive / (true_positive + false_negative) * 100\n",
    "    tn_rate = true_negative / (true_negative + false_positive) * 100\n",
    "    fn_rate = false_negative / (false_negative + true_positive) * 100\n",
    "    fp_rate = false_positive / (false_positive + true_negative) * 100\n",
    "    mlflow.log_metric(\"True Positive Rate\", tp_rate)\n",
    "    mlflow.log_metric(\"True Negative Rate\", tn_rate)\n",
    "    mlflow.log_metric(\"False Positive Rate\", fp_rate)\n",
    "    mlflow.log_metric(\"False Negative Rate\", fn_rate)\n",
    "    print(f\"TP: {true_positive} ({tp_rate})\\tFP: {false_positive} ({fp_rate})\")\n",
    "    print(f\"FN: {false_negative} ({fn_rate})\\tTN: {true_negative} ({tn_rate})\")\n",
    "\n",
    "mlflow.end_run()\n"
   ],
   "metadata": {
    "collapsed": false,
    "pycharm": {
     "name": "#%%\n"
    }
   }
  },
  {
   "cell_type": "code",
   "execution_count": null,
   "outputs": [],
   "source": [],
   "metadata": {
    "collapsed": false,
    "pycharm": {
     "name": "#%%\n"
    }
   }
  }
 ],
 "metadata": {
  "kernelspec": {
   "display_name": "Python 3",
   "language": "python",
   "name": "python3"
  },
  "language_info": {
   "codemirror_mode": {
    "name": "ipython",
    "version": 2
   },
   "file_extension": ".py",
   "mimetype": "text/x-python",
   "name": "python",
   "nbconvert_exporter": "python",
   "pygments_lexer": "ipython2",
   "version": "2.7.6"
  }
 },
 "nbformat": 4,
 "nbformat_minor": 0
}