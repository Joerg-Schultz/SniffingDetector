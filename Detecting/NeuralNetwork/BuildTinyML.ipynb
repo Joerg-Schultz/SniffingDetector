{
 "cells": [
  {
   "cell_type": "code",
   "execution_count": 1,
   "outputs": [],
   "source": [
    "model_name = \"SniffingNetwork\"\n",
    "stage = \"Production\"\n",
    "run_name = \"three neurons kitchen only, 40 dense\"\n",
    "description = \"tiny network for three neurons with kitchen data only\"\n",
    "\n",
    "data_classes = [\"Sniffing\", \"Background\", \"Quiet\"]"
   ],
   "metadata": {
    "collapsed": false,
    "pycharm": {
     "name": "#%%\n"
    }
   }
  },
  {
   "cell_type": "code",
   "execution_count": 2,
   "outputs": [],
   "source": [
    "# Code copied from BuildModel_twoOutputNeurons. Maybe merge?\n",
    "import tensorflow_io as tfio\n",
    "from tensorflow.python.ops import gen_audio_ops as audio_ops\n",
    "import tensorflow.experimental.numpy as tnp\n",
    "import glob\n",
    "\n",
    "def generate_spectrogram(file_path, label):\n",
    "    # does not scale as sniffing should be the same independent of background level\n",
    "    audio_tensor = tfio.audio.AudioIOTensor(file_path, dtype=tf.int16)\n",
    "    audio = tf.cast(audio_tensor[:], tf.float32)\n",
    "    spectrogram = audio_ops.audio_spectrogram(audio,\n",
    "                                              window_size=320,\n",
    "                                              stride=160,\n",
    "                                              magnitude_squared=True)\n",
    "    spectrogram = tf.nn.pool(\n",
    "        input=tf.expand_dims(spectrogram, -1),\n",
    "        window_shape=[1, 6],\n",
    "        strides=[1, 6],\n",
    "        pooling_type='AVG',\n",
    "        padding='SAME')\n",
    "    spectrogram = tf.squeeze(spectrogram, axis=0)\n",
    "    # Not sure whether the log is a good idea...\n",
    "    spectrogram = tnp.log10(spectrogram + 1e-6)\n",
    "    return spectrogram, label\n",
    "\n",
    "def prepare_data(dir, value):\n",
    "    filePath = os.path.join(dir, \"*.wav\")\n",
    "    files = tf.data.Dataset.list_files(filePath)\n",
    "    values = tf.zeros(len(files)) if value == 0 else tf.ones(len(files))\n",
    "    data = tf.data.Dataset.zip((files, tf.data.Dataset.from_tensor_slices(values)))\n",
    "    spectrogramData = data.map(generate_spectrogram)\n",
    "    return spectrogramData\n",
    "\n",
    "def batch_prefetch(dataSet):\n",
    "    dataSet = dataSet.batch(16)\n",
    "    dataSet = dataSet.prefetch(8)\n",
    "    return dataSet\n",
    "\n",
    "def generate_dataset(train_or_test, classes):\n",
    "    class_counts = []\n",
    "    data_sets = []\n",
    "    for index, current_class in enumerate(classes):\n",
    "        current_data_dir = f\"data/{train_or_test}/{current_class}\"\n",
    "        current_data = prepare_data(current_data_dir, index)\n",
    "        data_sets.append(current_data)\n",
    "        current_number = current_data.cardinality().numpy()\n",
    "        class_counts.append(current_number)\n",
    "        print(f\"{current_class} Datasets: {current_number}\")\n",
    "\n",
    "    if correct_class_imbalance:\n",
    "        smallest_data_count = min(class_counts)\n",
    "        for index, data_set in enumerate(data_sets):\n",
    "            corrected_data = data_set.shuffle(class_counts[index]).take(smallest_data_count)\n",
    "            data_sets[index] = corrected_data\n",
    "            corrected_number = corrected_data.cardinality().numpy()\n",
    "            print(f\"Corrected {classes[index]} Datasets: {corrected_number}\")\n",
    "    combined_data = data_sets[0]\n",
    "    for next_data in data_sets[1:]:\n",
    "        combined_data = combined_data.concatenate(next_data)\n",
    "    combined_data = combined_data.cache()\n",
    "    return combined_data.shuffle(buffer_size=combined_data.cardinality().numpy())\n",
    "\n",
    "def representative_data_gen():\n",
    "    data = generate_dataset(train_or_test=\"train\", classes=data_classes)\n",
    "    train = batch_prefetch(data)\n",
    "    repr_samples, repr_labels = train.as_numpy_iterator().next()\n",
    "    yield [repr_samples]"
   ],
   "metadata": {
    "collapsed": false,
    "pycharm": {
     "name": "#%%\n"
    }
   }
  },
  {
   "cell_type": "code",
   "execution_count": 3,
   "metadata": {
    "collapsed": true,
    "pycharm": {
     "name": "#%%\n"
    }
   },
   "outputs": [
    {
     "name": "stderr",
     "output_type": "stream",
     "text": [
      "WARNING:absl:Found untraced functions such as _jit_compiled_convolution_op, _jit_compiled_convolution_op, _update_step_xla while saving (showing 3 of 3). These functions will not be directly callable after loading.\n"
     ]
    },
    {
     "name": "stdout",
     "output_type": "stream",
     "text": [
      "INFO:tensorflow:Assets written to: C:\\Users\\Joerg\\Documents\\tmp\\SniffingDetector\\Detecting\\NeuralNetwork\\sniffing_model/1/assets\n"
     ]
    },
    {
     "name": "stderr",
     "output_type": "stream",
     "text": [
      "INFO:tensorflow:Assets written to: C:\\Users\\Joerg\\Documents\\tmp\\SniffingDetector\\Detecting\\NeuralNetwork\\sniffing_model/1/assets\n"
     ]
    },
    {
     "name": "stdout",
     "output_type": "stream",
     "text": [
      "Sniffing Datasets: 213\n",
      "Background Datasets: 522\n",
      "Quiet Datasets: 227\n",
      "Corrected Sniffing Datasets: 213\n",
      "Corrected Background Datasets: 213\n",
      "Corrected Quiet Datasets: 213\n"
     ]
    }
   ],
   "source": [
    "import mlflow.keras\n",
    "import os\n",
    "import pathlib\n",
    "import tensorflow as tf\n",
    "\n",
    "mlflow.set_experiment(\"tinyML\")\n",
    "with mlflow.start_run(run_name=run_name) as run:\n",
    "    run_id = run.info.run_id\n",
    "    model_uri=f\"models:/{model_name}/{stage}\"\n",
    "    mlflow.log_param(\"URI\", model_uri)\n",
    "    mlflow.log_param(\"Description\", description)\n",
    "\n",
    "    correct_class_imbalance = True\n",
    "\n",
    "    # TODO Don't make a local copy\n",
    "    model = mlflow.keras.load_model(model_uri)\n",
    "    savedModelDir = os.path.join(os.getcwd(), \"sniffing_model/1/\")\n",
    "    tf.saved_model.save(model, savedModelDir)\n",
    "    converter = tf.lite.TFLiteConverter.from_saved_model(savedModelDir)\n",
    "\n",
    "    # Post Training Quantization\n",
    "    # https://www.tensorflow.org/lite/performance/post_training_quantization\n",
    "    # Integer with float fallback (using default float input/output)\n",
    "    converter.optimizations = [tf.lite.Optimize.DEFAULT]\n",
    "    converter.representative_dataset = representative_data_gen\n",
    "\n",
    "    # Integer only\n",
    "    # doesn't work here, as I have float32 input and want an output 0<= x <= 1\n",
    "    # atomic14_converter.target_spec.supported_ops = [tf.lite.OpsSet.TFLITE_BUILTINS_INT8]\n",
    "    # atomic14_converter.inference_input_type = tf.int8  # or tf.uint8\n",
    "    # atomic14_converter.inference_output_type = tf.int8\n",
    "\n",
    "    tflite_model = converter.convert()\n",
    "\n",
    "    tflite_model_file = pathlib.Path('./tflite_models/model.tflite')\n",
    "    tflite_model_file.write_bytes(tflite_model)"
   ]
  },
  {
   "cell_type": "markdown",
   "source": [
    "Run xxd -i model.tflite > model_data.cc in git bash\n",
    "or install\n",
    "https://sourceforge.net/projects/xxd-for-windows/"
   ],
   "metadata": {
    "collapsed": false,
    "pycharm": {
     "name": "#%% md\n"
    }
   }
  },
  {
   "cell_type": "code",
   "execution_count": 4,
   "outputs": [],
   "source": [
    "!C:\\Users\\Joerg\\Documents\\Programs\\xxd.exe -i .\\tflite_models\\model.tflite > .\\tflite_models\\model_data.cc"
   ],
   "metadata": {
    "collapsed": false,
    "pycharm": {
     "name": "#%%\n"
    }
   }
  },
  {
   "cell_type": "code",
   "execution_count": 5,
   "outputs": [],
   "source": [
    "# evaluate the model\n",
    "def generate_spectrogram_only(file_path):\n",
    "    # does not scale as sniffing should be the same independent of background level\n",
    "    audio_tensor = tfio.audio.AudioIOTensor(file_path, dtype=tf.int16)\n",
    "    audio = tf.cast(audio_tensor[:], tf.float32)\n",
    "    spectrogram = audio_ops.audio_spectrogram(audio,\n",
    "                                              window_size=320,\n",
    "                                              stride=160,\n",
    "                                              magnitude_squared=True)\n",
    "    spectrogram = tf.nn.pool(\n",
    "        input=tf.expand_dims(spectrogram, -1),\n",
    "        window_shape=[1, 6],\n",
    "        strides=[1, 6],\n",
    "        pooling_type='AVG',\n",
    "        padding='SAME')\n",
    "    spectrogram = tf.squeeze(spectrogram, axis=0)\n",
    "    # Not sure whether the log is a good idea...\n",
    "    spectrogram = tnp.log10(spectrogram + 1e-6)\n",
    "    return spectrogram\n",
    "\n",
    "\n",
    "# make a single based on tflite prediction\n",
    "def make_tflite_prediction(one_second_file):\n",
    "    spectrogram = generate_spectrogram_only(one_second_file)\n",
    "    interpreter.set_tensor(input_index, [spectrogram])\n",
    "    interpreter.invoke()\n",
    "    tflite_result = interpreter.get_tensor(output_index)\n",
    "    return tflite_result\n"
   ],
   "metadata": {
    "collapsed": false,
    "pycharm": {
     "name": "#%%\n"
    }
   }
  },
  {
   "cell_type": "code",
   "execution_count": 6,
   "outputs": [],
   "source": [
    "# prepare tfMicro Interpreter\n",
    "interpreter = tf.lite.Interpreter(model_path=\"./tflite_models/model.tflite\")\n",
    "interpreter.allocate_tensors()\n",
    "input_details = interpreter.get_input_details()\n",
    "output_details = interpreter.get_output_details()\n",
    "input_index = input_details[0]['index']\n",
    "output_index = output_details[0]['index']"
   ],
   "metadata": {
    "collapsed": false,
    "pycharm": {
     "name": "#%%\n"
    }
   }
  },
  {
   "cell_type": "code",
   "execution_count": 7,
   "outputs": [
    {
     "name": "stdout",
     "output_type": "stream",
     "text": [
      "[[ 36   5   0]\n",
      " [ 32 111   0]\n",
      " [  0   0  53]]\n"
     ]
    }
   ],
   "source": [
    "from sklearn.metrics import confusion_matrix\n",
    "import numpy as np\n",
    "\n",
    "predicted_labels = []\n",
    "true_labels = []\n",
    "with mlflow.start_run(run_id=run_id, run_name=run_name) as run:\n",
    "    mlflow.log_artifact('./tflite_models/model_data.cc')\n",
    "    for index, data_class in enumerate(data_classes):\n",
    "        for audio_file in glob.glob(f\"./data/test/{data_class}/*.wav\"):\n",
    "            tf_lite_result = make_tflite_prediction(audio_file)[0]\n",
    "            prediction = np.argmax(tf_lite_result)\n",
    "            predicted_labels.append(prediction)\n",
    "            true_labels.append(index)\n",
    "\n",
    "    cm = confusion_matrix(true_labels, predicted_labels)\n",
    "    print(cm)\n"
   ],
   "metadata": {
    "collapsed": false,
    "pycharm": {
     "name": "#%%\n"
    }
   }
  },
  {
   "cell_type": "code",
   "execution_count": 8,
   "outputs": [
    {
     "data": {
      "text/plain": "<Figure size 640x480 with 2 Axes>",
      "image/png": "[encoded data removed]"
     },
     "metadata": {},
     "output_type": "display_data"
    }
   ],
   "source": [
    "import seaborn as sns\n",
    "import matplotlib.pyplot as plt\n",
    "\n",
    "with mlflow.start_run(run_id=run_id, run_name=run_name) as run:\n",
    "    sns.heatmap(cm, annot=True, cmap='Blues', fmt='d', xticklabels=data_classes, yticklabels=data_classes)\n",
    "    # Set the title and axis labels\n",
    "    plt.title('Confusion Matrix')\n",
    "    plt.xlabel('Predicted Label')\n",
    "    plt.ylabel('True Label')\n",
    "\n",
    "    # Show the plot\n",
    "    fig = plt.gcf()\n",
    "    mlflow.log_figure(fig, 'ConfusionMatrix.png')\n",
    "    plt.show()"
   ],
   "metadata": {
    "collapsed": false,
    "pycharm": {
     "name": "#%%\n"
    }
   }
  },
  {
   "cell_type": "code",
   "execution_count": 9,
   "outputs": [],
   "source": [
    "mlflow.end_run()"
   ],
   "metadata": {
    "collapsed": false,
    "pycharm": {
     "name": "#%%\n"
    }
   }
  },
  {
   "cell_type": "code",
   "execution_count": null,
   "outputs": [],
   "source": [],
   "metadata": {
    "collapsed": false,
    "pycharm": {
     "name": "#%%\n"
    }
   }
  }
 ],
 "metadata": {
  "kernelspec": {
   "display_name": "Python 3",
   "language": "python",
   "name": "python3"
  },
  "language_info": {
   "codemirror_mode": {
    "name": "ipython",
    "version": 2
   },
   "file_extension": ".py",
   "mimetype": "text/x-python",
   "name": "python",
   "nbconvert_exporter": "python",
   "pygments_lexer": "ipython2",
   "version": "2.7.6"
  }
 },
 "nbformat": 4,
 "nbformat_minor": 0
}