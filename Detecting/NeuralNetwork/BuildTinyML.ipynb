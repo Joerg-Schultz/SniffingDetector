{
 "cells": [
  {
   "cell_type": "code",
   "execution_count": 2,
   "outputs": [],
   "source": [
    "model_name = \"SniffingNetwork\"\n",
    "stage = \"Production\""
   ],
   "metadata": {
    "collapsed": false,
    "pycharm": {
     "name": "#%%\n"
    }
   }
  },
  {
   "cell_type": "code",
   "execution_count": 3,
   "outputs": [],
   "source": [
    "# Code copied from BuildModel_twoOutputNeurons. Maybe merge?\n",
    "import tensorflow_io as tfio\n",
    "from tensorflow.python.ops import gen_audio_ops as audio_ops\n",
    "import tensorflow.experimental.numpy as tnp\n",
    "\n",
    "def generate_spectrogram(file_path, label):\n",
    "    # does not scale as sniffing should be the same independent of background level\n",
    "    audio_tensor = tfio.audio.AudioIOTensor(file_path, dtype=tf.int16)\n",
    "    audio = tf.cast(audio_tensor[:], tf.float32)\n",
    "    spectrogram = audio_ops.audio_spectrogram(audio,\n",
    "                                              window_size=320,\n",
    "                                              stride=160,\n",
    "                                              magnitude_squared=True)\n",
    "    spectrogram = tf.nn.pool(\n",
    "        input=tf.expand_dims(spectrogram, -1),\n",
    "        window_shape=[1, 6],\n",
    "        strides=[1, 6],\n",
    "        pooling_type='AVG',\n",
    "        padding='SAME')\n",
    "    spectrogram = tf.squeeze(spectrogram, axis=0)\n",
    "    # Not sure whether the log is a good idea...\n",
    "    spectrogram = tnp.log10(spectrogram + 1e-6)\n",
    "    return spectrogram, label\n",
    "\n",
    "def prepare_data(dir, value):\n",
    "    filePath = os.path.join(dir, \"*.wav\")\n",
    "    files = tf.data.Dataset.list_files(filePath)\n",
    "    values = tf.zeros(len(files)) if value == 0 else tf.ones(len(files))\n",
    "    data = tf.data.Dataset.zip((files, tf.data.Dataset.from_tensor_slices(values)))\n",
    "    spectrogramData = data.map(generate_spectrogram)\n",
    "    return spectrogramData\n",
    "\n",
    "def batch_prefetch(dataSet):\n",
    "    dataSet = dataSet.batch(16)\n",
    "    dataSet = dataSet.prefetch(8)\n",
    "    return dataSet\n",
    "\n",
    "def generate_binary_dataset(trueDataDir, falseDataDir):\n",
    "    trueData = prepare_data(trueDataDir, 1)\n",
    "    true_number = trueData.cardinality().numpy()\n",
    "    print(f\"Sniffing Datasets: {true_number}\")\n",
    "    falseData = prepare_data(falseDataDir, 0)\n",
    "    false_number = falseData.cardinality().numpy()\n",
    "    print(f\"Background Datasets: {false_number}\")\n",
    "    if correct_class_imbalance:\n",
    "        falseData = falseData.shuffle(false_number).take(true_number)\n",
    "        false_number = falseData.cardinality().numpy()\n",
    "        print(f\"Corrected Background Datasets: {false_number}\")\n",
    "    combinedData = trueData.concatenate(falseData)\n",
    "    combinedData = combinedData.cache()\n",
    "    return combinedData.shuffle(buffer_size=combinedData.cardinality().numpy())\n",
    "\n",
    "def representative_data_gen():\n",
    "    data = generate_binary_dataset(trueDataDir=sniffingDir, falseDataDir=backgroundDir)\n",
    "    train = batch_prefetch(data)\n",
    "    repr_samples, repr_labels = train.as_numpy_iterator().next()\n",
    "    yield [repr_samples]"
   ],
   "metadata": {
    "collapsed": false,
    "pycharm": {
     "name": "#%%\n"
    }
   }
  },
  {
   "cell_type": "code",
   "execution_count": 16,
   "metadata": {
    "collapsed": true,
    "pycharm": {
     "name": "#%%\n"
    }
   },
   "outputs": [
    {
     "name": "stderr",
     "output_type": "stream",
     "text": [
      "WARNING:absl:Found untraced functions such as _jit_compiled_convolution_op, _jit_compiled_convolution_op, _update_step_xla while saving (showing 3 of 3). These functions will not be directly callable after loading.\n"
     ]
    },
    {
     "name": "stdout",
     "output_type": "stream",
     "text": [
      "INFO:tensorflow:Assets written to: C:\\Users\\Joerg\\Documents\\tmp\\SniffingDetector\\Detecting\\NeuralNetwork\\sniffing_model/1/assets\n"
     ]
    },
    {
     "name": "stderr",
     "output_type": "stream",
     "text": [
      "INFO:tensorflow:Assets written to: C:\\Users\\Joerg\\Documents\\tmp\\SniffingDetector\\Detecting\\NeuralNetwork\\sniffing_model/1/assets\n"
     ]
    },
    {
     "name": "stdout",
     "output_type": "stream",
     "text": [
      "Sniffing Datasets: 251\n",
      "Background Datasets: 772\n",
      "Corrected Background Datasets: 251\n"
     ]
    },
    {
     "data": {
      "text/plain": "43504"
     },
     "execution_count": 16,
     "metadata": {},
     "output_type": "execute_result"
    }
   ],
   "source": [
    "import mlflow.keras\n",
    "import os\n",
    "import pathlib\n",
    "import tensorflow as tf\n",
    "\n",
    "correct_class_imbalance = True\n",
    "sniffingDir = \"data/train/Sniffing\"\n",
    "backgroundDir = \"data/train/Background\"\n",
    "\n",
    "model_uri=f\"models:/{model_name}/{stage}\"\n",
    "\n",
    "# TODO Don't make a local copy\n",
    "model = mlflow.keras.load_model(model_uri)\n",
    "savedModelDir = os.path.join(os.getcwd(), \"sniffing_model/1/\")\n",
    "tf.saved_model.save(model, savedModelDir)\n",
    "converter = tf.lite.TFLiteConverter.from_saved_model(savedModelDir)\n",
    "\n",
    "# Post Training Quantization\n",
    "# https://www.tensorflow.org/lite/performance/post_training_quantization\n",
    "# Integer with float fallback (using default float input/output)\n",
    "converter.optimizations = [tf.lite.Optimize.DEFAULT]\n",
    "converter.representative_dataset = representative_data_gen\n",
    "\n",
    "# Integer only\n",
    "# doesn't work here, as I have float32 input and want an output 0<= x <= 1\n",
    "# atomic14_converter.target_spec.supported_ops = [tf.lite.OpsSet.TFLITE_BUILTINS_INT8]\n",
    "# atomic14_converter.inference_input_type = tf.int8  # or tf.uint8\n",
    "# atomic14_converter.inference_output_type = tf.int8\n",
    "\n",
    "tflite_model = converter.convert()\n",
    "\n",
    "tflite_model_file = pathlib.Path('./tflite_models/model.tflite')\n",
    "tflite_model_file.write_bytes(tflite_model)"
   ]
  },
  {
   "cell_type": "markdown",
   "source": [
    "Run xxd -i model.tflite > model_data.cc in git bash\n",
    "or install\n",
    "https://sourceforge.net/projects/xxd-for-windows/"
   ],
   "metadata": {
    "collapsed": false,
    "pycharm": {
     "name": "#%% md\n"
    }
   }
  },
  {
   "cell_type": "code",
   "execution_count": 31,
   "outputs": [],
   "source": [
    "!C:\\Users\\Joerg\\Documents\\Programs\\xxd.exe -i .\\tflite_models\\model.tflite > .\\tflite_models\\model_data.cc"
   ],
   "metadata": {
    "collapsed": false,
    "pycharm": {
     "name": "#%%\n"
    }
   }
  }
 ],
 "metadata": {
  "kernelspec": {
   "display_name": "Python 3",
   "language": "python",
   "name": "python3"
  },
  "language_info": {
   "codemirror_mode": {
    "name": "ipython",
    "version": 2
   },
   "file_extension": ".py",
   "mimetype": "text/x-python",
   "name": "python",
   "nbconvert_exporter": "python",
   "pygments_lexer": "ipython2",
   "version": "2.7.6"
  }
 },
 "nbformat": 4,
 "nbformat_minor": 0
}