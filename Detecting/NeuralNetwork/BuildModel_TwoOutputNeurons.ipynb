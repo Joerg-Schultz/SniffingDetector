{
 "cells": [
  {
   "cell_type": "code",
   "execution_count": 27,
   "metadata": {
    "collapsed": true,
    "pycharm": {
     "name": "#%%\n"
    }
   },
   "outputs": [],
   "source": [
    "description = \"Can I improve prediction by adding a kernel regularizer? The purpose of the kernel regularizer is to prevent overfitting by encouraging the model to learn simpler and more generalizable patterns. \"\n",
    "data_version = \"dv1\"\n",
    "sniffingDir = \"data/train/Sniffing\"\n",
    "backgroundDir = \"data/train/Background\"\n",
    "testSniffingDir = \"data/test/Sniffing\"\n",
    "testBackgroundDir = \"data/test/Background\"\n",
    "\n",
    "validation_fraction = 0.2\n",
    "\n",
    "correct_class_imbalance = True"
   ]
  },
  {
   "cell_type": "code",
   "execution_count": 28,
   "outputs": [],
   "source": [
    "import tensorflow as tf\n",
    "from tensorflow.keras.models import Sequential\n",
    "from tensorflow.keras import regularizers\n",
    "from tensorflow.keras.layers import Conv2D, Dense, Flatten, MaxPooling2D, Dropout\n",
    "import tensorflow_io as tfio\n",
    "import tensorflow.experimental.numpy as tnp\n",
    "from tensorflow.python.ops import gen_audio_ops as audio_ops\n",
    "import os\n",
    "import mlflow\n",
    "#  enable NumPy behavior for TensorFlow:\n",
    "tnp.experimental_enable_numpy_behavior()"
   ],
   "metadata": {
    "collapsed": false,
    "pycharm": {
     "name": "#%%\n"
    }
   }
  },
  {
   "cell_type": "code",
   "execution_count": 29,
   "outputs": [],
   "source": [
    "def generate_spectrogram(file_path, label):\n",
    "    # does not scale as sniffing should be the same independent of background level\n",
    "    audio_tensor = tfio.audio.AudioIOTensor(file_path, dtype=tf.int16)\n",
    "    audio = tf.cast(audio_tensor[:], tf.float32)\n",
    "    spectrogram = audio_ops.audio_spectrogram(audio,\n",
    "                                              window_size=320,\n",
    "                                              stride=160,\n",
    "                                              magnitude_squared=True)\n",
    "    spectrogram = tf.nn.pool(\n",
    "        input=tf.expand_dims(spectrogram, -1),\n",
    "        window_shape=[1, 6],\n",
    "        strides=[1, 6],\n",
    "        pooling_type='AVG',\n",
    "        padding='SAME')\n",
    "    spectrogram = tf.squeeze(spectrogram, axis=0)\n",
    "    # Not sure whether the log is a good idea...\n",
    "    spectrogram = tnp.log10(spectrogram + 1e-6)\n",
    "    return spectrogram, label\n",
    "\n",
    "def prepare_data(dir, value):\n",
    "    filePath = os.path.join(dir, \"*.wav\")\n",
    "    files = tf.data.Dataset.list_files(filePath)\n",
    "    file_count = len(files)\n",
    "    #values = tf.zeros(len(files)) if value == 0 else tf.ones(len(files))\n",
    "    if value == 0:\n",
    "        values = tf.concat([tf.zeros(shape=[file_count, 1]), tf.ones(shape=[file_count, 1])], axis=1)\n",
    "    else:\n",
    "        values = tf.concat([tf.ones(shape=[file_count, 1]), tf.zeros(shape=[file_count, 1])], axis=1)\n",
    "\n",
    "    data = tf.data.Dataset.zip((files, tf.data.Dataset.from_tensor_slices(values)))\n",
    "    spectrogramData = data.map(generate_spectrogram)\n",
    "    return spectrogramData\n",
    "\n",
    "def generate_binary_dataset(trueDataDir, falseDataDir):\n",
    "    trueData = prepare_data(trueDataDir, 1)\n",
    "    true_number = trueData.cardinality().numpy()\n",
    "    print(f\"Sniffing Datasets: {true_number}\")\n",
    "    falseData = prepare_data(falseDataDir, 0)\n",
    "    false_number = falseData.cardinality().numpy()\n",
    "    print(f\"Background Datasets: {false_number}\")\n",
    "    if correct_class_imbalance:\n",
    "        falseData = falseData.shuffle(false_number).take(true_number)\n",
    "        false_number = falseData.cardinality().numpy()\n",
    "        print(f\"Corrected Background Datasets: {false_number}\")\n",
    "    combinedData = trueData.concatenate(falseData)\n",
    "    combinedData = combinedData.cache()\n",
    "    return combinedData.shuffle(buffer_size=combinedData.cardinality().numpy())\n",
    "\n",
    "def split_validation(allData, fraction):\n",
    "    numberDataSets = allData.cardinality().numpy()\n",
    "    validationCount = round(numberDataSets * fraction)\n",
    "    trainSet = allData.take(numberDataSets - validationCount)\n",
    "    validationSet = allData.skip(numberDataSets - validationCount).take(validationCount)\n",
    "    return trainSet, validationSet\n",
    "\n",
    "def batch_prefetch(dataSet):\n",
    "    dataSet = dataSet.batch(16)\n",
    "    dataSet = dataSet.prefetch(8)\n",
    "    return dataSet\n",
    "\n",
    "def calc_accuracy(predictions, true_values):\n",
    "    accuracy = sum(map(lambda x, y: x == y == 1, true_values, predictions))/sum(true_values)\n",
    "    return accuracy\n",
    "\n",
    "def representative_data_gen():\n",
    "    repr_samples, repr_labels = train.as_numpy_iterator().next()\n",
    "    yield [repr_samples]"
   ],
   "metadata": {
    "collapsed": false,
    "pycharm": {
     "name": "#%%\n"
    }
   }
  },
  {
   "cell_type": "code",
   "execution_count": 30,
   "outputs": [
    {
     "name": "stdout",
     "output_type": "stream",
     "text": [
      "Sniffing Datasets: 251\n",
      "Background Datasets: 772\n",
      "Corrected Background Datasets: 251\n",
      "inputShape (99, 43, 1)\n"
     ]
    }
   ],
   "source": [
    "data = generate_binary_dataset(trueDataDir=sniffingDir, falseDataDir=backgroundDir)\n",
    "train, validation = split_validation(data, validation_fraction)\n",
    "train = batch_prefetch(train)\n",
    "validation = batch_prefetch(validation)\n",
    "samples, labels = train.as_numpy_iterator().next()\n",
    "inputShape = samples.shape[1:]\n",
    "print(f\"inputShape {inputShape}\")"
   ],
   "metadata": {
    "collapsed": false,
    "pycharm": {
     "name": "#%%\n"
    }
   }
  },
  {
   "cell_type": "code",
   "execution_count": 31,
   "outputs": [],
   "source": [
    "with mlflow.start_run():\n",
    "    mlflow.tensorflow.autolog()\n",
    "    mlflow.log_param(\"data_version\", data_version)\n",
    "    mlflow.log_param(\"validation fraction\", validation_fraction)\n",
    "    mlflow.log_param(\"correct class imbalance\", correct_class_imbalance)\n",
    "    mlflow.log_param(\"Description\", description)"
   ],
   "metadata": {
    "collapsed": false,
    "pycharm": {
     "name": "#%%\n"
    }
   }
  },
  {
   "cell_type": "code",
   "execution_count": 32,
   "outputs": [
    {
     "name": "stdout",
     "output_type": "stream",
     "text": [
      "Model: \"sequential_2\"\n",
      "_________________________________________________________________\n",
      " Layer (type)                Output Shape              Param #   \n",
      "=================================================================\n",
      " conv_layer1 (Conv2D)        (None, 99, 43, 4)         40        \n",
      "                                                                 \n",
      " max_pooling1 (MaxPooling2D)  (None, 49, 21, 4)        0         \n",
      "                                                                 \n",
      " conv_layer2 (Conv2D)        (None, 49, 21, 4)         148       \n",
      "                                                                 \n",
      " max_pooling2 (MaxPooling2D)  (None, 24, 10, 4)        0         \n",
      "                                                                 \n",
      " flatten_2 (Flatten)         (None, 960)               0         \n",
      "                                                                 \n",
      " dropout_2 (Dropout)         (None, 960)               0         \n",
      "                                                                 \n",
      " hidden_layer1 (Dense)       (None, 40)                38440     \n",
      "                                                                 \n",
      " output (Dense)              (None, 2)                 82        \n",
      "                                                                 \n",
      "=================================================================\n",
      "Total params: 38,710\n",
      "Trainable params: 38,710\n",
      "Non-trainable params: 0\n",
      "_________________________________________________________________\n"
     ]
    }
   ],
   "source": [
    "    model = Sequential([\n",
    "        Conv2D(4, 3,\n",
    "               padding='same',\n",
    "               activation='relu',\n",
    "               kernel_regularizer=regularizers.l2(0.001),\n",
    "               name='conv_layer1',\n",
    "               input_shape=inputShape),\n",
    "        MaxPooling2D(name='max_pooling1', pool_size=(2,2)),\n",
    "        Conv2D(4, 3,\n",
    "               padding='same',\n",
    "               activation='relu',\n",
    "               kernel_regularizer=regularizers.l2(0.001),\n",
    "               name='conv_layer2'),\n",
    "        MaxPooling2D(name='max_pooling2', pool_size=(2,2)),\n",
    "        Flatten(),\n",
    "        Dropout(0.2),\n",
    "        Dense(\n",
    "            40,\n",
    "            activation='relu',\n",
    "            kernel_regularizer=regularizers.l2(0.001),\n",
    "            name='hidden_layer1'\n",
    "        ),\n",
    "        Dense(\n",
    "            2,\n",
    "            activation='softmax',\n",
    "            kernel_regularizer=regularizers.l2(0.001),\n",
    "            name='output'\n",
    "        )\n",
    "    ])\n",
    "    model.compile(optimizer=tf.keras.optimizers.Adam(),\n",
    "                  loss=tf.keras.losses.BinaryCrossentropy(),\n",
    "                  metrics=[[tf.keras.metrics.Recall(),tf.keras.metrics.Precision()]])\n",
    "\n",
    "    model.summary()"
   ],
   "metadata": {
    "collapsed": false,
    "pycharm": {
     "name": "#%%\n"
    }
   }
  },
  {
   "cell_type": "code",
   "execution_count": 33,
   "outputs": [
    {
     "name": "stderr",
     "output_type": "stream",
     "text": [
      "2023/04/02 11:03:11 INFO mlflow.utils.autologging_utils: Created MLflow autologging run with ID '7d12679e07e1479ab5fff23468bcf739', which will track hyperparameters, performance metrics, model artifacts, and lineage information for the current tensorflow workflow\n"
     ]
    },
    {
     "name": "stdout",
     "output_type": "stream",
     "text": [
      "Epoch 1/100\n",
      "26/26 [==============================] - 2s 25ms/step - loss: 0.7481 - recall_2: 0.4975 - precision_2: 0.4975 - val_loss: 0.7066 - val_recall_2: 0.5100 - val_precision_2: 0.5100\n",
      "Epoch 2/100\n",
      "26/26 [==============================] - 0s 15ms/step - loss: 0.7039 - recall_2: 0.4776 - precision_2: 0.4776 - val_loss: 0.6912 - val_recall_2: 0.5600 - val_precision_2: 0.5600\n",
      "Epoch 3/100\n",
      "26/26 [==============================] - 0s 15ms/step - loss: 0.6940 - recall_2: 0.5224 - precision_2: 0.5224 - val_loss: 0.6934 - val_recall_2: 0.4600 - val_precision_2: 0.4600\n",
      "Epoch 4/100\n",
      "26/26 [==============================] - 0s 15ms/step - loss: 0.6911 - recall_2: 0.5448 - precision_2: 0.5448 - val_loss: 0.6935 - val_recall_2: 0.4800 - val_precision_2: 0.4800\n",
      "Epoch 5/100\n",
      "26/26 [==============================] - 0s 15ms/step - loss: 0.6912 - recall_2: 0.5249 - precision_2: 0.5249 - val_loss: 0.6923 - val_recall_2: 0.5500 - val_precision_2: 0.5500\n",
      "Epoch 6/100\n",
      "26/26 [==============================] - 0s 15ms/step - loss: 0.6914 - recall_2: 0.5025 - precision_2: 0.5025 - val_loss: 0.6865 - val_recall_2: 0.5200 - val_precision_2: 0.5200\n",
      "Epoch 7/100\n",
      "26/26 [==============================] - 0s 15ms/step - loss: 0.6912 - recall_2: 0.4627 - precision_2: 0.4627 - val_loss: 0.6919 - val_recall_2: 0.5800 - val_precision_2: 0.5800\n",
      "Epoch 8/100\n",
      "26/26 [==============================] - 0s 15ms/step - loss: 0.6907 - recall_2: 0.5124 - precision_2: 0.5124 - val_loss: 0.6868 - val_recall_2: 0.4900 - val_precision_2: 0.4900\n",
      "Epoch 9/100\n",
      "26/26 [==============================] - 0s 15ms/step - loss: 0.6906 - recall_2: 0.4677 - precision_2: 0.4677 - val_loss: 0.6930 - val_recall_2: 0.4400 - val_precision_2: 0.4400\n",
      "Epoch 10/100\n",
      "26/26 [==============================] - 0s 15ms/step - loss: 0.6899 - recall_2: 0.5000 - precision_2: 0.5000 - val_loss: 0.6904 - val_recall_2: 0.5000 - val_precision_2: 0.5000\n",
      "Epoch 11/100\n",
      "26/26 [==============================] - 0s 16ms/step - loss: 0.6900 - recall_2: 0.5398 - precision_2: 0.5398 - val_loss: 0.6819 - val_recall_2: 0.6100 - val_precision_2: 0.6100\n",
      "Epoch 12/100\n",
      "26/26 [==============================] - 0s 15ms/step - loss: 0.6888 - recall_2: 0.5100 - precision_2: 0.5100 - val_loss: 0.6843 - val_recall_2: 0.4900 - val_precision_2: 0.4900\n",
      "Epoch 13/100\n",
      "26/26 [==============================] - 0s 15ms/step - loss: 0.6934 - recall_2: 0.4900 - precision_2: 0.4900 - val_loss: 0.6920 - val_recall_2: 0.5400 - val_precision_2: 0.5400\n",
      "Epoch 14/100\n",
      "26/26 [==============================] - 0s 15ms/step - loss: 0.6860 - recall_2: 0.5846 - precision_2: 0.5846 - val_loss: 0.6899 - val_recall_2: 0.4300 - val_precision_2: 0.4300\n",
      "Epoch 15/100\n",
      "26/26 [==============================] - 0s 15ms/step - loss: 0.6844 - recall_2: 0.4851 - precision_2: 0.4851 - val_loss: 0.6642 - val_recall_2: 0.5100 - val_precision_2: 0.5100\n",
      "Epoch 16/100\n",
      "26/26 [==============================] - 0s 15ms/step - loss: 0.6734 - recall_2: 0.5572 - precision_2: 0.5572 - val_loss: 0.6806 - val_recall_2: 0.4900 - val_precision_2: 0.4900\n",
      "Epoch 17/100\n",
      "26/26 [==============================] - 0s 15ms/step - loss: 0.6876 - recall_2: 0.5025 - precision_2: 0.5025 - val_loss: 0.6906 - val_recall_2: 0.5300 - val_precision_2: 0.5300\n",
      "Epoch 18/100\n",
      "26/26 [==============================] - 0s 15ms/step - loss: 0.6798 - recall_2: 0.5572 - precision_2: 0.5572 - val_loss: 0.6545 - val_recall_2: 0.6300 - val_precision_2: 0.6300\n",
      "Epoch 19/100\n",
      "26/26 [==============================] - 0s 15ms/step - loss: 0.6554 - recall_2: 0.6070 - precision_2: 0.6070 - val_loss: 0.6728 - val_recall_2: 0.5700 - val_precision_2: 0.5700\n",
      "Epoch 20/100\n",
      "26/26 [==============================] - 0s 15ms/step - loss: 0.6535 - recall_2: 0.6119 - precision_2: 0.6119 - val_loss: 0.6320 - val_recall_2: 0.6500 - val_precision_2: 0.6500\n",
      "Epoch 21/100\n",
      "26/26 [==============================] - 0s 15ms/step - loss: 0.6387 - recall_2: 0.6418 - precision_2: 0.6418 - val_loss: 0.6442 - val_recall_2: 0.6200 - val_precision_2: 0.6200\n",
      "Epoch 22/100\n",
      "26/26 [==============================] - 0s 15ms/step - loss: 0.6380 - recall_2: 0.6219 - precision_2: 0.6219 - val_loss: 0.6225 - val_recall_2: 0.6500 - val_precision_2: 0.6500\n",
      "Epoch 23/100\n",
      "26/26 [==============================] - 0s 15ms/step - loss: 0.6281 - recall_2: 0.6617 - precision_2: 0.6617 - val_loss: 0.6148 - val_recall_2: 0.6000 - val_precision_2: 0.6000\n",
      "Epoch 24/100\n",
      "26/26 [==============================] - 0s 15ms/step - loss: 0.6212 - recall_2: 0.6567 - precision_2: 0.6567 - val_loss: 0.6105 - val_recall_2: 0.6600 - val_precision_2: 0.6600\n",
      "Epoch 25/100\n",
      "26/26 [==============================] - 0s 15ms/step - loss: 0.6394 - recall_2: 0.6219 - precision_2: 0.6219 - val_loss: 0.6815 - val_recall_2: 0.5700 - val_precision_2: 0.5700\n",
      "Epoch 26/100\n",
      "26/26 [==============================] - 0s 15ms/step - loss: 0.6566 - recall_2: 0.6095 - precision_2: 0.6095 - val_loss: 0.6008 - val_recall_2: 0.6800 - val_precision_2: 0.6800\n",
      "Epoch 27/100\n",
      "26/26 [==============================] - 0s 15ms/step - loss: 0.6271 - recall_2: 0.6393 - precision_2: 0.6393 - val_loss: 0.5966 - val_recall_2: 0.6400 - val_precision_2: 0.6400\n",
      "Epoch 28/100\n",
      "26/26 [==============================] - 0s 15ms/step - loss: 0.6313 - recall_2: 0.6517 - precision_2: 0.6517 - val_loss: 0.6180 - val_recall_2: 0.6800 - val_precision_2: 0.6800\n",
      "Epoch 29/100\n",
      "26/26 [==============================] - 0s 15ms/step - loss: 0.6239 - recall_2: 0.6517 - precision_2: 0.6517 - val_loss: 0.6136 - val_recall_2: 0.6800 - val_precision_2: 0.6800\n",
      "Epoch 30/100\n",
      "26/26 [==============================] - 0s 15ms/step - loss: 0.6211 - recall_2: 0.6443 - precision_2: 0.6443 - val_loss: 0.6123 - val_recall_2: 0.6500 - val_precision_2: 0.6500\n",
      "Epoch 31/100\n",
      "26/26 [==============================] - 0s 17ms/step - loss: 0.6269 - recall_2: 0.6443 - precision_2: 0.6443 - val_loss: 0.5878 - val_recall_2: 0.7000 - val_precision_2: 0.7000\n",
      "Epoch 32/100\n",
      "26/26 [==============================] - 0s 15ms/step - loss: 0.6038 - recall_2: 0.6617 - precision_2: 0.6617 - val_loss: 0.5897 - val_recall_2: 0.7400 - val_precision_2: 0.7400\n",
      "Epoch 33/100\n",
      "26/26 [==============================] - 0s 15ms/step - loss: 0.5962 - recall_2: 0.6692 - precision_2: 0.6692 - val_loss: 0.6259 - val_recall_2: 0.6400 - val_precision_2: 0.6400\n",
      "Epoch 34/100\n",
      "26/26 [==============================] - 0s 15ms/step - loss: 0.6026 - recall_2: 0.6766 - precision_2: 0.6766 - val_loss: 0.5793 - val_recall_2: 0.7200 - val_precision_2: 0.7200\n",
      "Epoch 35/100\n",
      "26/26 [==============================] - 0s 15ms/step - loss: 0.5946 - recall_2: 0.6940 - precision_2: 0.6940 - val_loss: 0.5904 - val_recall_2: 0.6800 - val_precision_2: 0.6800\n",
      "Epoch 36/100\n",
      "26/26 [==============================] - 0s 15ms/step - loss: 0.6080 - recall_2: 0.6468 - precision_2: 0.6468 - val_loss: 0.6206 - val_recall_2: 0.6600 - val_precision_2: 0.6600\n",
      "Epoch 37/100\n",
      "26/26 [==============================] - 0s 15ms/step - loss: 0.6123 - recall_2: 0.6791 - precision_2: 0.6791 - val_loss: 0.6545 - val_recall_2: 0.5800 - val_precision_2: 0.5800\n",
      "Epoch 38/100\n",
      "26/26 [==============================] - 0s 15ms/step - loss: 0.5855 - recall_2: 0.6816 - precision_2: 0.6816 - val_loss: 0.5576 - val_recall_2: 0.6800 - val_precision_2: 0.6800\n",
      "Epoch 39/100\n",
      "26/26 [==============================] - 0s 15ms/step - loss: 0.5844 - recall_2: 0.6841 - precision_2: 0.6841 - val_loss: 0.5914 - val_recall_2: 0.6400 - val_precision_2: 0.6400\n",
      "Epoch 40/100\n",
      "26/26 [==============================] - 0s 15ms/step - loss: 0.5926 - recall_2: 0.6915 - precision_2: 0.6915 - val_loss: 0.5548 - val_recall_2: 0.7500 - val_precision_2: 0.7500\n",
      "Epoch 41/100\n",
      "26/26 [==============================] - 0s 15ms/step - loss: 0.5563 - recall_2: 0.7139 - precision_2: 0.7139 - val_loss: 0.5856 - val_recall_2: 0.7000 - val_precision_2: 0.7000\n",
      "Epoch 42/100\n",
      "26/26 [==============================] - 0s 15ms/step - loss: 0.5928 - recall_2: 0.6816 - precision_2: 0.6816 - val_loss: 0.5699 - val_recall_2: 0.7300 - val_precision_2: 0.7300\n",
      "Epoch 43/100\n",
      "26/26 [==============================] - 0s 15ms/step - loss: 0.5925 - recall_2: 0.6716 - precision_2: 0.6716 - val_loss: 0.5911 - val_recall_2: 0.6500 - val_precision_2: 0.6500\n",
      "Epoch 44/100\n",
      "26/26 [==============================] - 0s 15ms/step - loss: 0.5631 - recall_2: 0.7264 - precision_2: 0.7264 - val_loss: 0.5380 - val_recall_2: 0.7500 - val_precision_2: 0.7500\n",
      "Epoch 45/100\n",
      "26/26 [==============================] - 0s 16ms/step - loss: 0.5505 - recall_2: 0.7289 - precision_2: 0.7289 - val_loss: 0.5265 - val_recall_2: 0.7800 - val_precision_2: 0.7800\n",
      "Epoch 46/100\n",
      "26/26 [==============================] - 0s 15ms/step - loss: 0.5479 - recall_2: 0.7214 - precision_2: 0.7214 - val_loss: 0.5405 - val_recall_2: 0.6900 - val_precision_2: 0.6900\n",
      "Epoch 47/100\n",
      "26/26 [==============================] - 0s 15ms/step - loss: 0.5362 - recall_2: 0.7388 - precision_2: 0.7388 - val_loss: 0.5670 - val_recall_2: 0.6900 - val_precision_2: 0.6900\n",
      "Epoch 48/100\n",
      "26/26 [==============================] - 0s 15ms/step - loss: 0.5567 - recall_2: 0.7239 - precision_2: 0.7239 - val_loss: 0.5152 - val_recall_2: 0.8000 - val_precision_2: 0.8000\n",
      "Epoch 49/100\n",
      "26/26 [==============================] - 0s 15ms/step - loss: 0.5112 - recall_2: 0.7687 - precision_2: 0.7687 - val_loss: 0.4850 - val_recall_2: 0.7300 - val_precision_2: 0.7300\n",
      "Epoch 50/100\n",
      "26/26 [==============================] - 0s 15ms/step - loss: 0.5177 - recall_2: 0.7612 - precision_2: 0.7612 - val_loss: 0.4603 - val_recall_2: 0.7900 - val_precision_2: 0.7900\n",
      "Epoch 51/100\n",
      "26/26 [==============================] - 0s 15ms/step - loss: 0.5122 - recall_2: 0.7637 - precision_2: 0.7637 - val_loss: 0.4636 - val_recall_2: 0.8200 - val_precision_2: 0.8200\n",
      "Epoch 52/100\n",
      "26/26 [==============================] - 0s 15ms/step - loss: 0.5197 - recall_2: 0.7338 - precision_2: 0.7338 - val_loss: 0.4616 - val_recall_2: 0.7800 - val_precision_2: 0.7800\n",
      "Epoch 53/100\n",
      "26/26 [==============================] - 0s 15ms/step - loss: 0.4817 - recall_2: 0.7587 - precision_2: 0.7587 - val_loss: 0.4839 - val_recall_2: 0.8100 - val_precision_2: 0.8100\n",
      "Epoch 54/100\n",
      "26/26 [==============================] - 0s 16ms/step - loss: 0.4963 - recall_2: 0.7612 - precision_2: 0.7612 - val_loss: 0.4425 - val_recall_2: 0.7800 - val_precision_2: 0.7800\n",
      "Epoch 55/100\n",
      "26/26 [==============================] - 0s 15ms/step - loss: 0.4940 - recall_2: 0.7488 - precision_2: 0.7488 - val_loss: 0.5412 - val_recall_2: 0.7500 - val_precision_2: 0.7500\n",
      "Epoch 56/100\n",
      "26/26 [==============================] - 0s 15ms/step - loss: 0.4511 - recall_2: 0.8109 - precision_2: 0.8109 - val_loss: 0.3974 - val_recall_2: 0.8300 - val_precision_2: 0.8300\n",
      "Epoch 57/100\n",
      "26/26 [==============================] - 0s 15ms/step - loss: 0.4524 - recall_2: 0.7910 - precision_2: 0.7910 - val_loss: 0.3828 - val_recall_2: 0.8500 - val_precision_2: 0.8500\n",
      "Epoch 58/100\n",
      "26/26 [==============================] - 0s 15ms/step - loss: 0.4674 - recall_2: 0.7861 - precision_2: 0.7861 - val_loss: 0.3358 - val_recall_2: 0.9300 - val_precision_2: 0.9300\n",
      "Epoch 59/100\n",
      "26/26 [==============================] - 0s 15ms/step - loss: 0.4205 - recall_2: 0.8159 - precision_2: 0.8159 - val_loss: 0.3842 - val_recall_2: 0.8600 - val_precision_2: 0.8600\n",
      "Epoch 60/100\n",
      "26/26 [==============================] - 0s 15ms/step - loss: 0.4013 - recall_2: 0.8184 - precision_2: 0.8184 - val_loss: 0.3340 - val_recall_2: 0.8700 - val_precision_2: 0.8700\n",
      "Epoch 61/100\n",
      "26/26 [==============================] - 0s 15ms/step - loss: 0.3949 - recall_2: 0.8209 - precision_2: 0.8209 - val_loss: 0.3388 - val_recall_2: 0.8800 - val_precision_2: 0.8800\n",
      "Epoch 62/100\n",
      "26/26 [==============================] - 0s 15ms/step - loss: 0.3995 - recall_2: 0.8060 - precision_2: 0.8060 - val_loss: 0.3935 - val_recall_2: 0.8500 - val_precision_2: 0.8500\n",
      "Epoch 63/100\n",
      "26/26 [==============================] - 0s 15ms/step - loss: 0.3741 - recall_2: 0.8383 - precision_2: 0.8383 - val_loss: 0.2828 - val_recall_2: 0.8900 - val_precision_2: 0.8900\n",
      "Epoch 64/100\n",
      "26/26 [==============================] - 0s 15ms/step - loss: 0.3356 - recall_2: 0.8483 - precision_2: 0.8483 - val_loss: 0.2838 - val_recall_2: 0.9000 - val_precision_2: 0.9000\n",
      "Epoch 65/100\n",
      "26/26 [==============================] - 0s 15ms/step - loss: 0.3412 - recall_2: 0.8682 - precision_2: 0.8682 - val_loss: 0.2420 - val_recall_2: 0.9100 - val_precision_2: 0.9100\n",
      "Epoch 66/100\n",
      "26/26 [==============================] - 0s 15ms/step - loss: 0.3106 - recall_2: 0.8930 - precision_2: 0.8930 - val_loss: 0.2886 - val_recall_2: 0.8900 - val_precision_2: 0.8900\n",
      "Epoch 67/100\n",
      "26/26 [==============================] - 0s 15ms/step - loss: 0.2908 - recall_2: 0.8806 - precision_2: 0.8806 - val_loss: 0.2307 - val_recall_2: 0.9500 - val_precision_2: 0.9500\n",
      "Epoch 68/100\n",
      "26/26 [==============================] - 0s 15ms/step - loss: 0.2533 - recall_2: 0.9129 - precision_2: 0.9129 - val_loss: 0.2556 - val_recall_2: 0.9300 - val_precision_2: 0.9300\n",
      "Epoch 69/100\n",
      "26/26 [==============================] - 0s 15ms/step - loss: 0.2263 - recall_2: 0.9204 - precision_2: 0.9204 - val_loss: 0.1959 - val_recall_2: 0.9500 - val_precision_2: 0.9500\n",
      "Epoch 70/100\n",
      "26/26 [==============================] - 0s 15ms/step - loss: 0.2500 - recall_2: 0.9030 - precision_2: 0.9030 - val_loss: 0.1513 - val_recall_2: 0.9900 - val_precision_2: 0.9900\n",
      "Epoch 71/100\n",
      "26/26 [==============================] - 0s 15ms/step - loss: 0.2289 - recall_2: 0.9229 - precision_2: 0.9229 - val_loss: 0.1111 - val_recall_2: 0.9900 - val_precision_2: 0.9900\n",
      "Epoch 72/100\n",
      "26/26 [==============================] - 0s 15ms/step - loss: 0.2090 - recall_2: 0.9254 - precision_2: 0.9254 - val_loss: 0.1555 - val_recall_2: 0.9500 - val_precision_2: 0.9500\n",
      "Epoch 73/100\n",
      "26/26 [==============================] - 0s 15ms/step - loss: 0.2008 - recall_2: 0.9254 - precision_2: 0.9254 - val_loss: 0.1619 - val_recall_2: 0.9600 - val_precision_2: 0.9600\n",
      "Epoch 74/100\n",
      "26/26 [==============================] - 0s 15ms/step - loss: 0.1679 - recall_2: 0.9478 - precision_2: 0.9478 - val_loss: 0.0970 - val_recall_2: 0.9900 - val_precision_2: 0.9900\n",
      "Epoch 75/100\n",
      "26/26 [==============================] - 0s 15ms/step - loss: 0.1577 - recall_2: 0.9353 - precision_2: 0.9353 - val_loss: 0.1074 - val_recall_2: 0.9800 - val_precision_2: 0.9800\n",
      "Epoch 76/100\n",
      "26/26 [==============================] - 0s 15ms/step - loss: 0.1555 - recall_2: 0.9627 - precision_2: 0.9627 - val_loss: 0.1936 - val_recall_2: 0.9200 - val_precision_2: 0.9200\n",
      "Epoch 77/100\n",
      "26/26 [==============================] - 0s 15ms/step - loss: 0.1740 - recall_2: 0.9403 - precision_2: 0.9403 - val_loss: 0.1961 - val_recall_2: 0.9100 - val_precision_2: 0.9100\n",
      "Epoch 78/100\n",
      "26/26 [==============================] - 0s 15ms/step - loss: 0.1731 - recall_2: 0.9353 - precision_2: 0.9353 - val_loss: 0.0896 - val_recall_2: 1.0000 - val_precision_2: 1.0000\n",
      "Epoch 79/100\n",
      "26/26 [==============================] - 0s 15ms/step - loss: 0.1338 - recall_2: 0.9627 - precision_2: 0.9627 - val_loss: 0.0611 - val_recall_2: 1.0000 - val_precision_2: 1.0000\n",
      "Epoch 80/100\n",
      "26/26 [==============================] - 0s 15ms/step - loss: 0.1144 - recall_2: 0.9701 - precision_2: 0.9701 - val_loss: 0.0757 - val_recall_2: 1.0000 - val_precision_2: 1.0000\n",
      "Epoch 81/100\n",
      "26/26 [==============================] - 0s 15ms/step - loss: 0.1230 - recall_2: 0.9677 - precision_2: 0.9677 - val_loss: 0.0568 - val_recall_2: 1.0000 - val_precision_2: 1.0000\n",
      "Epoch 82/100\n",
      "26/26 [==============================] - 0s 16ms/step - loss: 0.0924 - recall_2: 0.9801 - precision_2: 0.9801 - val_loss: 0.0582 - val_recall_2: 1.0000 - val_precision_2: 1.0000\n",
      "Epoch 83/100\n",
      "26/26 [==============================] - 0s 15ms/step - loss: 0.0929 - recall_2: 0.9751 - precision_2: 0.9751 - val_loss: 0.0499 - val_recall_2: 1.0000 - val_precision_2: 1.0000\n",
      "Epoch 84/100\n",
      "26/26 [==============================] - 0s 15ms/step - loss: 0.1296 - recall_2: 0.9527 - precision_2: 0.9527 - val_loss: 0.0675 - val_recall_2: 1.0000 - val_precision_2: 1.0000\n",
      "Epoch 85/100\n",
      "26/26 [==============================] - 0s 15ms/step - loss: 0.0886 - recall_2: 0.9826 - precision_2: 0.9826 - val_loss: 0.0649 - val_recall_2: 1.0000 - val_precision_2: 1.0000\n",
      "Epoch 86/100\n",
      "26/26 [==============================] - 0s 18ms/step - loss: 0.1027 - recall_2: 0.9726 - precision_2: 0.9726 - val_loss: 0.0503 - val_recall_2: 1.0000 - val_precision_2: 1.0000\n",
      "Epoch 87/100\n",
      "26/26 [==============================] - 1s 20ms/step - loss: 0.0852 - recall_2: 0.9726 - precision_2: 0.9726 - val_loss: 0.0346 - val_recall_2: 1.0000 - val_precision_2: 1.0000\n",
      "Epoch 88/100\n",
      "26/26 [==============================] - 0s 16ms/step - loss: 0.0992 - recall_2: 0.9726 - precision_2: 0.9726 - val_loss: 0.0344 - val_recall_2: 1.0000 - val_precision_2: 1.0000\n",
      "Epoch 89/100\n",
      "26/26 [==============================] - 0s 15ms/step - loss: 0.0751 - recall_2: 0.9801 - precision_2: 0.9801 - val_loss: 0.0342 - val_recall_2: 1.0000 - val_precision_2: 1.0000\n",
      "Epoch 90/100\n",
      "26/26 [==============================] - 0s 15ms/step - loss: 0.0861 - recall_2: 0.9701 - precision_2: 0.9701 - val_loss: 0.0405 - val_recall_2: 1.0000 - val_precision_2: 1.0000\n",
      "Epoch 91/100\n",
      "26/26 [==============================] - 0s 15ms/step - loss: 0.0638 - recall_2: 0.9876 - precision_2: 0.9876 - val_loss: 0.0316 - val_recall_2: 1.0000 - val_precision_2: 1.0000\n",
      "Epoch 92/100\n",
      "26/26 [==============================] - 0s 15ms/step - loss: 0.0705 - recall_2: 0.9851 - precision_2: 0.9851 - val_loss: 0.0322 - val_recall_2: 1.0000 - val_precision_2: 1.0000\n",
      "Epoch 93/100\n",
      "26/26 [==============================] - 0s 15ms/step - loss: 0.0779 - recall_2: 0.9726 - precision_2: 0.9726 - val_loss: 0.0283 - val_recall_2: 1.0000 - val_precision_2: 1.0000\n",
      "Epoch 94/100\n",
      "26/26 [==============================] - 0s 15ms/step - loss: 0.0801 - recall_2: 0.9751 - precision_2: 0.9751 - val_loss: 0.0289 - val_recall_2: 1.0000 - val_precision_2: 1.0000\n",
      "Epoch 95/100\n",
      "26/26 [==============================] - 0s 15ms/step - loss: 0.0625 - recall_2: 0.9925 - precision_2: 0.9925 - val_loss: 0.0193 - val_recall_2: 1.0000 - val_precision_2: 1.0000\n",
      "Epoch 96/100\n",
      "26/26 [==============================] - 0s 16ms/step - loss: 0.0583 - recall_2: 0.9876 - precision_2: 0.9876 - val_loss: 0.0217 - val_recall_2: 1.0000 - val_precision_2: 1.0000\n",
      "Epoch 97/100\n",
      "26/26 [==============================] - 0s 15ms/step - loss: 0.0544 - recall_2: 0.9925 - precision_2: 0.9925 - val_loss: 0.0189 - val_recall_2: 1.0000 - val_precision_2: 1.0000\n",
      "Epoch 98/100\n",
      "26/26 [==============================] - 0s 15ms/step - loss: 0.0577 - recall_2: 0.9851 - precision_2: 0.9851 - val_loss: 0.0238 - val_recall_2: 1.0000 - val_precision_2: 1.0000\n",
      "Epoch 99/100\n",
      "26/26 [==============================] - 0s 15ms/step - loss: 0.1506 - recall_2: 0.9527 - precision_2: 0.9527 - val_loss: 0.0245 - val_recall_2: 1.0000 - val_precision_2: 1.0000\n",
      "Epoch 100/100\n",
      "26/26 [==============================] - 0s 15ms/step - loss: 0.0677 - recall_2: 0.9851 - precision_2: 0.9851 - val_loss: 0.0211 - val_recall_2: 1.0000 - val_precision_2: 1.0000\n",
      "1/1 [==============================] - 0s 73ms/step\n"
     ]
    },
    {
     "name": "stderr",
     "output_type": "stream",
     "text": [
      "WARNING:absl:Found untraced functions such as _jit_compiled_convolution_op, _jit_compiled_convolution_op, _update_step_xla while saving (showing 3 of 3). These functions will not be directly callable after loading.\n"
     ]
    },
    {
     "name": "stdout",
     "output_type": "stream",
     "text": [
      "INFO:tensorflow:Assets written to: C:\\Users\\Joerg\\AppData\\Local\\Temp\\tmpa7uttl1k\\model\\data\\model\\assets\n"
     ]
    },
    {
     "name": "stderr",
     "output_type": "stream",
     "text": [
      "INFO:tensorflow:Assets written to: C:\\Users\\Joerg\\AppData\\Local\\Temp\\tmpa7uttl1k\\model\\data\\model\\assets\n"
     ]
    }
   ],
   "source": [
    "    hist = model.fit(train, epochs=100, validation_data=validation)"
   ],
   "metadata": {
    "collapsed": false,
    "pycharm": {
     "name": "#%%\n"
    }
   }
  },
  {
   "cell_type": "code",
   "execution_count": 34,
   "outputs": [
    {
     "data": {
      "text/plain": "<Figure size 640x480 with 1 Axes>",
      "image/png": "[encoded data removed]"
     },
     "metadata": {},
     "output_type": "display_data"
    }
   ],
   "source": [
    "    import matplotlib.pyplot as plt\n",
    "    precision = list(hist.history.keys())[2]\n",
    "    val_precision = list(hist.history.keys())[5]\n",
    "    # Get the training loss and accuracy values from the history object\n",
    "    training_loss = hist.history['loss']\n",
    "    training_accuracy = hist.history[precision]\n",
    "\n",
    "    # Get the validation loss and accuracy values from the history object\n",
    "    validation_loss = hist.history['val_loss']\n",
    "    validation_accuracy = hist.history[val_precision]\n",
    "\n",
    "    # Plot the training and validation loss and accuracy on the same subplot\n",
    "    plt.plot(training_loss, label='Training Loss')\n",
    "    plt.plot(validation_loss, label='Validation Loss')\n",
    "    plt.plot(training_accuracy, label='Training Precision')\n",
    "    plt.plot(validation_accuracy, label='Validation Precision')\n",
    "    plt.legend()\n",
    "    plt.title('Loss and Precision over Epochs')\n",
    "    plt.xlabel('Epochs')\n",
    "    plt.ylabel('Loss and Precision')\n",
    "    fig = plt.gcf()\n",
    "    mlflow.log_figure(fig, 'Loss and Accuracy Plot.png')\n",
    "    plt.show()"
   ],
   "metadata": {
    "collapsed": false,
    "pycharm": {
     "name": "#%%\n"
    }
   }
  },
  {
   "cell_type": "code",
   "execution_count": 35,
   "outputs": [
    {
     "name": "stdout",
     "output_type": "stream",
     "text": [
      "Sniffing Datasets: 64\n",
      "Background Datasets: 192\n",
      "Corrected Background Datasets: 64\n",
      "8/8 [==============================] - 1s 7ms/step - loss: 0.8734 - recall_2: 0.6406 - precision_2: 0.6406\n"
     ]
    }
   ],
   "source": [
    "    testData = generate_binary_dataset(trueDataDir=testSniffingDir, falseDataDir=testBackgroundDir)\n",
    "    testData = batch_prefetch(testData)\n",
    "\n",
    "    test_loss, test_recall, test_precision = model.evaluate(testData)\n",
    "    mlflow.log_metric(\"Test Loss\", test_loss)\n",
    "    mlflow.log_metric(\"Test Precision\", test_precision)"
   ],
   "metadata": {
    "collapsed": false,
    "pycharm": {
     "name": "#%%\n"
    }
   }
  },
  {
   "cell_type": "code",
   "execution_count": 36,
   "outputs": [],
   "source": [
    "mlflow.end_run()"
   ],
   "metadata": {
    "collapsed": false,
    "pycharm": {
     "name": "#%%\n"
    }
   }
  },
  {
   "cell_type": "code",
   "execution_count": null,
   "outputs": [],
   "source": [],
   "metadata": {
    "collapsed": false,
    "pycharm": {
     "name": "#%%\n"
    }
   }
  }
 ],
 "metadata": {
  "kernelspec": {
   "display_name": "Python 3",
   "language": "python",
   "name": "python3"
  },
  "language_info": {
   "codemirror_mode": {
    "name": "ipython",
    "version": 2
   },
   "file_extension": ".py",
   "mimetype": "text/x-python",
   "name": "python",
   "nbconvert_exporter": "python",
   "pygments_lexer": "ipython2",
   "version": "2.7.6"
  }
 },
 "nbformat": 4,
 "nbformat_minor": 0
}