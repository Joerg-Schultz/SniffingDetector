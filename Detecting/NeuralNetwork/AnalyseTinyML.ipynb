{
 "cells": [
  {
   "cell_type": "code",
   "execution_count": 22,
   "metadata": {
    "collapsed": true,
    "pycharm": {
     "name": "#%%\n"
    }
   },
   "outputs": [],
   "source": [
    "import glob\n",
    "import tensorflow as tf\n",
    "\n",
    "tflite_model_file = './tflite_models/model.tflite'"
   ]
  },
  {
   "cell_type": "code",
   "execution_count": 23,
   "outputs": [],
   "source": [
    "import tensorflow_io as tfio\n",
    "from tensorflow.python.ops import gen_audio_ops as audio_ops\n",
    "import tensorflow.experimental.numpy as tnp\n",
    "\n",
    "def generate_spectrogram(file_path):\n",
    "    # does not scale as sniffing should be the same independent of background level\n",
    "    audio_tensor = tfio.audio.AudioIOTensor(file_path, dtype=tf.int16)\n",
    "    audio = tf.cast(audio_tensor[:], tf.float32)\n",
    "    spectrogram = audio_ops.audio_spectrogram(audio,\n",
    "                                              window_size=320,\n",
    "                                              stride=160,\n",
    "                                              magnitude_squared=True)\n",
    "    spectrogram = tf.nn.pool(\n",
    "        input=tf.expand_dims(spectrogram, -1),\n",
    "        window_shape=[1, 6],\n",
    "        strides=[1, 6],\n",
    "        pooling_type='AVG',\n",
    "        padding='SAME')\n",
    "    spectrogram = tf.squeeze(spectrogram, axis=0)\n",
    "    # Not sure whether the log is a good idea...\n",
    "    spectrogram = tnp.log10(spectrogram + 1e-6)\n",
    "    return spectrogram"
   ],
   "metadata": {
    "collapsed": false,
    "pycharm": {
     "name": "#%%\n"
    }
   }
  },
  {
   "cell_type": "code",
   "execution_count": 59,
   "outputs": [],
   "source": [
    "# prepare tfMicro Interpreter\n",
    "interpreter = tf.lite.Interpreter(model_path=\"./tflite_models/model.tflite\")\n",
    "interpreter.allocate_tensors()\n",
    "input_details = interpreter.get_input_details()\n",
    "output_details = interpreter.get_output_details()\n",
    "input_index = input_details[0]['index']\n",
    "output_index = output_details[0]['index']"
   ],
   "metadata": {
    "collapsed": false,
    "pycharm": {
     "name": "#%%\n"
    }
   }
  },
  {
   "cell_type": "code",
   "execution_count": 60,
   "outputs": [],
   "source": [
    "# make a single based on tflite prediction\n",
    "def make_tflite_prediction(one_second_file):\n",
    "    spectrogram = generate_spectrogram(one_second_file)\n",
    "    interpreter.set_tensor(input_index, [spectrogram])\n",
    "    interpreter.invoke()\n",
    "    tflite_result = interpreter.get_tensor(output_index)\n",
    "    return tflite_result"
   ],
   "metadata": {
    "collapsed": false,
    "pycharm": {
     "name": "#%%\n"
    }
   }
  },
  {
   "cell_type": "code",
   "execution_count": 73,
   "outputs": [
    {
     "name": "stdout",
     "output_type": "stream",
     "text": [
      "TP: 46 (71.875)\tFP: 66\n",
      "FN: 18\tTN: 126 (65.625)\n"
     ]
    }
   ],
   "source": [
    "# make predictions for all files\n",
    "false_positive = 0\n",
    "false_negative = 0\n",
    "true_positive = 0\n",
    "true_negative = 0\n",
    "for audio_file in glob.glob(\"./data/test/Background/*.wav\"):\n",
    "    tf_lite_result = make_tflite_prediction(audio_file)[0]\n",
    "    if tf_lite_result[1] > 0.5:\n",
    "        true_negative += 1\n",
    "    else:\n",
    "        false_positive +=1\n",
    "\n",
    "for audio_file in glob.glob(\"./data/test/Sniffing/*.wav\"):\n",
    "    tf_lite_result = make_tflite_prediction(audio_file)[0]\n",
    "    if tf_lite_result[0] > 0.5:\n",
    "        true_positive += 1\n",
    "    else:\n",
    "        false_negative +=1\n",
    "\n",
    "tp_rate = true_positive / (true_positive + false_negative) * 100\n",
    "tn_rate = true_negative / (true_negative + false_positive) * 100\n",
    "fn_rate = false_negative / (true_negative + true_positive) * 100\n",
    "fp_rate = false_positive / (true_positive + true_negative) * 100\n",
    "print(f\"TP: {true_positive} ({tp_rate})\\tFP: {false_positive}\")\n",
    "print(f\"FN: {false_negative}\\tTN: {true_negative} ({tn_rate})\")"
   ],
   "metadata": {
    "collapsed": false,
    "pycharm": {
     "name": "#%%\n"
    }
   }
  },
  {
   "cell_type": "code",
   "execution_count": null,
   "outputs": [],
   "source": [],
   "metadata": {
    "collapsed": false,
    "pycharm": {
     "name": "#%%\n"
    }
   }
  }
 ],
 "metadata": {
  "kernelspec": {
   "display_name": "Python 3",
   "language": "python",
   "name": "python3"
  },
  "language_info": {
   "codemirror_mode": {
    "name": "ipython",
    "version": 2
   },
   "file_extension": ".py",
   "mimetype": "text/x-python",
   "name": "python",
   "nbconvert_exporter": "python",
   "pygments_lexer": "ipython2",
   "version": "2.7.6"
  }
 },
 "nbformat": 4,
 "nbformat_minor": 0
}