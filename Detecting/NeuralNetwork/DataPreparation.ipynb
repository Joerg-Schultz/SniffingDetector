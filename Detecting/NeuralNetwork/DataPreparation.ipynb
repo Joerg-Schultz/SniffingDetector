{
 "cells": [
  {
   "cell_type": "markdown",
   "source": [
    "`conda install -c anaconda yaml`\n",
    "`conda install -c conda-forge pydub`"
   ],
   "metadata": {
    "collapsed": false,
    "pycharm": {
     "name": "#%% md\n"
    }
   }
  },
  {
   "cell_type": "code",
   "execution_count": 30,
   "outputs": [
    {
     "name": "stdout",
     "output_type": "stream",
     "text": [
      "Processing [{'start': 0, 'end': 5, 'type': 'Background'}, {'start': 5, 'end': 7, 'type': 'Sniffing'}]\n",
      "Generated 9 total files\n"
     ]
    }
   ],
   "source": [
    "import yaml\n",
    "from pydub import AudioSegment  # You can open and save WAV files with pure python\n",
    "from random import random\n",
    "import os\n",
    "\n",
    "test_fraction = 0.2\n",
    "duration = 1000 # in milliseconds\n",
    "overlap = 100\n",
    "\n",
    "def build_directory_structure(annotation_dict):\n",
    "    types = {}\n",
    "    for annotation_list in annotation_dict.values():\n",
    "        for entry in annotation_list:\n",
    "            types[entry[\"type\"]] = 1\n",
    "    for type in types:\n",
    "        test_dir = f\"data/test/{type}\"\n",
    "        train_dir = f\"data/train/{type}\"\n",
    "        if not os.path.exists(test_dir):\n",
    "            os.makedirs(test_dir)\n",
    "        if not os.path.exists(train_dir):\n",
    "            os.makedirs(train_dir)\n",
    "\n",
    "\n",
    "def split_to_file(segment, name, start_file_number):\n",
    "    splitFileCount = 1\n",
    "    start = 0\n",
    "    fullDuration = segment.duration_seconds * 1000\n",
    "\n",
    "    while (start + duration) <= fullDuration:\n",
    "        end = start + duration\n",
    "        audioSlice = segment[start:end]\n",
    "        audioSlice = audioSlice.set_channels(1) #convert to mono\n",
    "        audioSlice = audioSlice.set_frame_rate(16000) # 16 kHz\n",
    "        trainOrTest = \"train\" if random() > test_fraction else \"test\"\n",
    "        resultFile = f\"./data/{trainOrTest}/{name}/{start_file_number + splitFileCount}.wav\"\n",
    "        audioSlice.export(out_f=resultFile, format=\"wav\")\n",
    "        splitFileCount += 1\n",
    "        start = start + duration - overlap\n",
    "    return splitFileCount\n",
    "\n",
    "\n",
    "annotation_file = \"data/annotations.yaml\"\n",
    "with open(annotation_file, 'r') as file:\n",
    "    annotations = yaml.safe_load(file)\n",
    "build_directory_structure(annotations)\n",
    "\n",
    "generated_file_count = 0\n",
    "for audio_file in annotations.keys():\n",
    "    print(f\"Processing {annotations[audio_file]}\")\n",
    "    audio_input = AudioSegment.from_wav(f\"data/raw/{audio_file}\")\n",
    "    for annotation in annotations[audio_file]:\n",
    "        start = annotation[\"start\"] * 1000 + 1 # start position is not included, see yaml annotation\n",
    "        end = annotation[\"end\"] * 1000\n",
    "        current_segment = audio_input[start:end]\n",
    "        generated_file_count += split_to_file(current_segment, annotation[\"type\"], generated_file_count)\n",
    "    print(f\"\\tFile ids to {generated_file_count}\")"
   ],
   "metadata": {
    "collapsed": false,
    "pycharm": {
     "name": "#%%\n"
    }
   }
  },
  {
   "cell_type": "code",
   "execution_count": null,
   "outputs": [],
   "source": [],
   "metadata": {
    "collapsed": false,
    "pycharm": {
     "name": "#%%\n"
    }
   }
  }
 ],
 "metadata": {
  "kernelspec": {
   "display_name": "Python 3",
   "language": "python",
   "name": "python3"
  },
  "language_info": {
   "codemirror_mode": {
    "name": "ipython",
    "version": 2
   },
   "file_extension": ".py",
   "mimetype": "text/x-python",
   "name": "python",
   "nbconvert_exporter": "python",
   "pygments_lexer": "ipython2",
   "version": "2.7.6"
  }
 },
 "nbformat": 4,
 "nbformat_minor": 0
}