{
 "cells": [
  {
   "cell_type": "markdown",
   "source": [
    "`conda install -c anaconda yaml`\n",
    "`conda install -c conda-forge pydub`\n",
    "`conda install -c conda-forge dvc`"
   ],
   "metadata": {
    "collapsed": false,
    "pycharm": {
     "name": "#%% md\n"
    }
   }
  },
  {
   "cell_type": "code",
   "execution_count": 2,
   "outputs": [
    {
     "name": "stdout",
     "output_type": "stream",
     "text": [
      "Stored 'data_version' (str)\n"
     ]
    }
   ],
   "source": [
    "data_version = \"d2\"\n",
    "# make it accessible in other notebooks\n",
    "%store data_version\n",
    "test_fraction = 0.2\n",
    "duration = 1000 # in milliseconds\n",
    "overlap = 100\n",
    "annotation_file = \"data/annotations.yaml\"\n",
    "data_dir = \"data/raw\""
   ],
   "metadata": {
    "collapsed": false,
    "pycharm": {
     "name": "#%%\n"
    }
   }
  },
  {
   "cell_type": "code",
   "execution_count": 3,
   "outputs": [
    {
     "name": "stderr",
     "output_type": "stream",
     "text": [
      "C:\\Users\\Joerg\\anaconda3\\envs\\NeuralNetwork\\lib\\site-packages\\pydub\\utils.py:170: RuntimeWarning: Couldn't find ffmpeg or avconv - defaulting to ffmpeg, but may not work\n",
      "  warn(\"Couldn't find ffmpeg or avconv - defaulting to ffmpeg, but may not work\", RuntimeWarning)\n"
     ]
    }
   ],
   "source": [
    "import yaml\n",
    "from pydub import AudioSegment  # You can open and save WAV files with pure python\n",
    "from random import random\n",
    "import os\n",
    "from dvc.api import DVCFileSystem"
   ],
   "metadata": {
    "collapsed": false,
    "pycharm": {
     "name": "#%%\n"
    }
   }
  },
  {
   "cell_type": "code",
   "execution_count": 4,
   "outputs": [],
   "source": [
    "def build_directory_structure(annotation_dict):\n",
    "    types = {}\n",
    "    for annotation_list in annotation_dict.values():\n",
    "        for entry in annotation_list:\n",
    "            types[entry[\"type\"]] = 1\n",
    "    for type in types:\n",
    "        test_dir = f\"data/test/{type}\"\n",
    "        train_dir = f\"data/train/{type}\"\n",
    "        if not os.path.exists(test_dir):\n",
    "            os.makedirs(test_dir)\n",
    "        if not os.path.exists(train_dir):\n",
    "            os.makedirs(train_dir)\n",
    "\n",
    "\n",
    "def split_to_file(segment, name, start_file_number):\n",
    "    splitFileCount = 1\n",
    "    start = 0\n",
    "    fullDuration = segment.duration_seconds * 1000\n",
    "\n",
    "    while (start + duration) <= fullDuration:\n",
    "        end = start + duration\n",
    "        audioSlice = segment[start:end]\n",
    "        audioSlice = audioSlice.set_channels(1) #convert to mono\n",
    "        audioSlice = audioSlice.set_frame_rate(16000) # 16 kHz\n",
    "        trainOrTest = \"train\" if random() > test_fraction else \"test\"\n",
    "        resultFile = f\"./data/{trainOrTest}/{name}/{start_file_number + splitFileCount}.wav\"\n",
    "        audioSlice.export(out_f=resultFile, format=\"wav\")\n",
    "        splitFileCount += 1\n",
    "        start = start + duration - overlap\n",
    "    return splitFileCount"
   ],
   "metadata": {
    "collapsed": false,
    "pycharm": {
     "name": "#%%\n"
    }
   }
  },
  {
   "cell_type": "code",
   "execution_count": 5,
   "outputs": [
    {
     "name": "stdout",
     "output_type": "stream",
     "text": [
      "Processing [{'start': 0, 'end': 48, 'type': 'Background'}, {'start': 49, 'end': 64, 'type': 'Sniffing'}, {'start': 67, 'end': 93, 'type': 'Background'}, {'start': 97, 'end': 99, 'type': 'Sniffing'}, {'start': 101, 'end': 135, 'type': 'Background'}]\n",
      "Processing [{'start': 1, 'end': 65, 'type': 'Quiet'}]\n",
      "Processing [{'start': 1, 'end': 65, 'type': 'Quiet'}]\n",
      "Processing [{'start': 1, 'end': 65, 'type': 'Quiet'}]\n",
      "Processing [{'start': 1, 'end': 65, 'type': 'Quiet'}]\n",
      "Processing [{'start': 0, 'end': 28, 'type': 'Background'}, {'start': 30, 'end': 40, 'type': 'Sniffing'}, {'start': 41, 'end': 70, 'type': 'Background'}, {'start': 71, 'end': 76, 'type': 'Sniffing'}, {'start': 76, 'end': 102, 'type': 'Background'}, {'start': 103, 'end': 136, 'type': 'Sniffing'}, {'start': 137, 'end': 180, 'type': 'Background'}, {'start': 181, 'end': 190, 'type': 'Sniffing'}, {'start': 191, 'end': 226, 'type': 'Background'}, {'start': 228, 'end': 247, 'type': 'Sniffing'}, {'start': 249, 'end': 290, 'type': 'Background'}]\n",
      "Processing [{'start': 0, 'end': 33, 'type': 'Background'}, {'start': 34, 'end': 40, 'type': 'Sniffing'}, {'start': 42, 'end': 63, 'type': 'Background'}, {'start': 64, 'end': 75, 'type': 'Sniffing'}, {'start': 76, 'end': 105, 'type': 'Background'}, {'start': 107, 'end': 159, 'type': 'Sniffing'}, {'start': 160, 'end': 225, 'type': 'Background'}, {'start': 247, 'end': 260, 'type': 'Sniffing'}, {'start': 261, 'end': 279, 'type': 'Background'}, {'start': 280, 'end': 295, 'type': 'Sniffing'}, {'start': 305, 'end': 311, 'type': 'Sniffing'}, {'start': 312, 'end': 334, 'type': 'Background'}, {'start': 336, 'end': 341, 'type': 'Sniffing'}, {'start': 343, 'end': 389, 'type': 'Background'}, {'start': 397, 'end': 417, 'type': 'Background'}]\n",
      "Processing [{'start': 0, 'end': 27, 'type': 'Background'}, {'start': 29, 'end': 31, 'type': 'Sniffing'}, {'start': 33, 'end': 52, 'type': 'Background'}, {'start': 53, 'end': 62, 'type': 'Sniffing'}, {'start': 63, 'end': 78, 'type': 'Background'}, {'start': 80, 'end': 103, 'type': 'Sniffing'}, {'start': 105, 'end': 114, 'type': 'Background'}]\n",
      "Processing [{'start': 0, 'end': 33, 'type': 'Background'}, {'start': 34, 'end': 43, 'type': 'Sniffing'}, {'start': 44, 'end': 70, 'type': 'Background'}, {'start': 71, 'end': 88, 'type': 'Sniffing'}, {'start': 89, 'end': 111, 'type': 'Background'}, {'start': 112, 'end': 131, 'type': 'Sniffing'}, {'start': 133, 'end': 180, 'type': 'Background'}, {'start': 196, 'end': 218, 'type': 'Background'}, {'start': 340, 'end': 351, 'type': 'Sniffing'}, {'start': 353, 'end': 372, 'type': 'Background'}, {'start': 374, 'end': 419, 'type': 'Background'}, {'start': 426, 'end': 440, 'type': 'Background'}, {'start': 446, 'end': 452, 'type': 'Sniffing'}, {'start': 453, 'end': 477, 'type': 'Background'}]\n"
     ]
    }
   ],
   "source": [
    "with open(annotation_file, 'r') as file:\n",
    "    annotations = yaml.safe_load(file)\n",
    "build_directory_structure(annotations)\n",
    "\n",
    "dvc_fs = DVCFileSystem(data_dir, rev = data_version)\n",
    "raw_files = dvc_fs.find(\"/\", detail=False, dvc_only=True)\n",
    "\n",
    "generated_file_count = 0\n",
    "\n",
    "for raw_file in raw_files:\n",
    "    audio_file = os.path.basename(raw_file)\n",
    "    if not (audio_file in annotations): continue\n",
    "    print(f\"Processing {annotations[audio_file]}\")\n",
    "    audio_input = AudioSegment.from_wav(f\"{data_dir}/{audio_file}\")\n",
    "    for annotation in annotations[audio_file]:\n",
    "        start = annotation[\"start\"] * 1000 + 1 # start position is not included, see yaml annotation\n",
    "        end = annotation[\"end\"] * 1000\n",
    "        current_segment = audio_input[start:end]\n",
    "        generated_file_count += split_to_file(current_segment, annotation[\"type\"], generated_file_count)\n",
    "    #print(f\"\\tFile ids to {generated_file_count}\")"
   ],
   "metadata": {
    "collapsed": false,
    "pycharm": {
     "name": "#%%\n"
    }
   }
  },
  {
   "cell_type": "code",
   "execution_count": null,
   "outputs": [],
   "source": [],
   "metadata": {
    "collapsed": false,
    "pycharm": {
     "name": "#%%\n"
    }
   }
  }
 ],
 "metadata": {
  "kernelspec": {
   "display_name": "Python 3",
   "language": "python",
   "name": "python3"
  },
  "language_info": {
   "codemirror_mode": {
    "name": "ipython",
    "version": 2
   },
   "file_extension": ".py",
   "mimetype": "text/x-python",
   "name": "python",
   "nbconvert_exporter": "python",
   "pygments_lexer": "ipython2",
   "version": "2.7.6"
  }
 },
 "nbformat": 4,
 "nbformat_minor": 0
}