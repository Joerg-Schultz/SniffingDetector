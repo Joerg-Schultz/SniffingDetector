{
 "cells": [
  {
   "cell_type": "markdown",
   "source": [
    "`pip install tensorflow`\n",
    "`pip install tensorflow_io` (can't be installed via conda)\n",
    "`pip install mlflow`\n",
    "Do I get a problem with numpy? Tensorflow uses 1.23, mlflo installed 1.24?"
   ],
   "metadata": {
    "collapsed": false,
    "pycharm": {
     "name": "#%% md\n"
    }
   }
  },
  {
   "cell_type": "code",
   "execution_count": 1,
   "outputs": [],
   "source": [
    "import random\n",
    "import tensorflow as tf\n",
    "from tensorflow.keras.models import Sequential\n",
    "from tensorflow.keras import regularizers\n",
    "from tensorflow.keras.layers import Conv2D, Dense, Flatten, MaxPooling2D, Dropout\n",
    "import tensorflow_io as tfio\n",
    "import os\n",
    "import pathlib\n",
    "\n",
    "#import numpy as np\n",
    "import tensorflow.experimental.numpy as tnp\n",
    "from tensorflow.python.ops import gen_audio_ops as audio_ops\n",
    "\n",
    "#  enable NumPy behavior for TensorFlow:\n",
    "tnp.experimental_enable_numpy_behavior()\n",
    "\n",
    "import mlflow"
   ],
   "metadata": {
    "collapsed": false,
    "pycharm": {
     "name": "#%%\n"
    }
   }
  },
  {
   "cell_type": "code",
   "execution_count": 87,
   "outputs": [],
   "source": [
    "sniffingDir = \"data/train/Sniffing\"\n",
    "backgroundDir = \"data/train/Background\"\n",
    "testSniffingDir = \"data/test/Sniffing\"\n",
    "testBackgroundDir = \"data/test/Background\"\n",
    "\n",
    "validation_fraction = 0.2\n",
    "\n",
    "correct_class_imbalance = True\n",
    "\n",
    "#mlflow.tensorflow.autolog()\n",
    "#mlflow.log_artifact(\"data/annotations.yaml\")\n",
    "#mlflow.log_param(\"Correct Class Imbalance\", correct_class_imbalance)"
   ],
   "metadata": {
    "collapsed": false,
    "pycharm": {
     "name": "#%%\n"
    }
   }
  },
  {
   "cell_type": "code",
   "execution_count": 88,
   "outputs": [],
   "source": [
    "def generate_spectrogram(file_path, label):\n",
    "    # does not scale as sniffing should be the same independent of background level\n",
    "    audio_tensor = tfio.audio.AudioIOTensor(file_path, dtype=tf.int16)\n",
    "    audio = tf.cast(audio_tensor[:], tf.float32)\n",
    "    spectrogram = audio_ops.audio_spectrogram(audio,\n",
    "                                              window_size=320,\n",
    "                                              stride=160,\n",
    "                                              magnitude_squared=True)\n",
    "    spectrogram = tf.nn.pool(\n",
    "        input=tf.expand_dims(spectrogram, -1),\n",
    "        window_shape=[1, 6],\n",
    "        strides=[1, 6],\n",
    "        pooling_type='AVG',\n",
    "        padding='SAME')\n",
    "    spectrogram = tf.squeeze(spectrogram, axis=0)\n",
    "    # Not sure whether the log is a good idea...\n",
    "    spectrogram = tnp.log10(spectrogram + 1e-6)\n",
    "    return spectrogram, label\n",
    "\n",
    "def prepare_data(dir, value):\n",
    "    filePath = os.path.join(dir, \"*.wav\")\n",
    "    files = tf.data.Dataset.list_files(filePath)\n",
    "    values = tf.zeros(len(files)) if value == 0 else tf.ones(len(files))\n",
    "    data = tf.data.Dataset.zip((files, tf.data.Dataset.from_tensor_slices(values)))\n",
    "    spectrogramData = data.map(generate_spectrogram)\n",
    "    return spectrogramData\n",
    "\n",
    "def generate_binary_dataset(trueDataDir, falseDataDir):\n",
    "    trueData = prepare_data(trueDataDir, 1)\n",
    "    true_number = trueData.cardinality().numpy()\n",
    "    print(f\"Sniffing Datasets: {true_number}\")\n",
    "    falseData = prepare_data(falseDataDir, 0)\n",
    "    false_number = falseData.cardinality().numpy()\n",
    "    print(f\"Background Datasets: {false_number}\")\n",
    "    if correct_class_imbalance:\n",
    "        falseData = falseData.shuffle(false_number).take(true_number)\n",
    "        false_number = falseData.cardinality().numpy()\n",
    "        print(f\"Corrected Background Datasets: {false_number}\")\n",
    "    combinedData = trueData.concatenate(falseData)\n",
    "    combinedData = combinedData.cache()\n",
    "    return combinedData.shuffle(buffer_size=combinedData.cardinality().numpy())\n",
    "\n",
    "def split_validation(allData, fraction):\n",
    "    numberDataSets = allData.cardinality().numpy()\n",
    "    validationCount = round(numberDataSets * fraction)\n",
    "    trainSet = allData.take(numberDataSets - validationCount)\n",
    "    validationSet = allData.skip(numberDataSets - validationCount).take(validationCount)\n",
    "    return trainSet, validationSet\n",
    "\n",
    "def batch_prefetch(dataSet):\n",
    "    dataSet = dataSet.batch(16)\n",
    "    dataSet = dataSet.prefetch(8)\n",
    "    return dataSet\n",
    "\n",
    "def calc_accuracy(predictions, true_values):\n",
    "    accuracy = sum(map(lambda x, y: x == y == 1, true_values, predictions))/sum(true_values)\n",
    "    return accuracy\n",
    "\n",
    "def representative_data_gen():\n",
    "    repr_samples, repr_labels = train.as_numpy_iterator().next()\n",
    "    yield [repr_samples]"
   ],
   "metadata": {
    "collapsed": false,
    "pycharm": {
     "name": "#%%\n"
    }
   }
  },
  {
   "cell_type": "code",
   "execution_count": 89,
   "outputs": [
    {
     "name": "stdout",
     "output_type": "stream",
     "text": [
      "Sniffing Datasets: 233\n",
      "Background Datasets: 782\n",
      "Corrected Background Datasets: 233\n",
      "inputShape (99, 43, 1)\n"
     ]
    }
   ],
   "source": [
    "data = generate_binary_dataset(trueDataDir=sniffingDir, falseDataDir=backgroundDir)\n",
    "train, validation = split_validation(data, validation_fraction)\n",
    "train = batch_prefetch(train)\n",
    "validation = batch_prefetch(validation)\n",
    "samples, labels = train.as_numpy_iterator().next()\n",
    "inputShape = samples.shape[1:]\n",
    "print(f\"inputShape {inputShape}\")"
   ],
   "metadata": {
    "collapsed": false,
    "pycharm": {
     "name": "#%%\n"
    }
   }
  },
  {
   "cell_type": "code",
   "execution_count": 90,
   "outputs": [
    {
     "name": "stdout",
     "output_type": "stream",
     "text": [
      "Model: \"sequential_4\"\n",
      "_________________________________________________________________\n",
      " Layer (type)                Output Shape              Param #   \n",
      "=================================================================\n",
      " conv_layer1 (Conv2D)        (None, 99, 43, 4)         40        \n",
      "                                                                 \n",
      " max_pooling1 (MaxPooling2D)  (None, 49, 21, 4)        0         \n",
      "                                                                 \n",
      " conv_layer2 (Conv2D)        (None, 49, 21, 4)         148       \n",
      "                                                                 \n",
      " max_pooling2 (MaxPooling2D)  (None, 24, 10, 4)        0         \n",
      "                                                                 \n",
      " flatten_4 (Flatten)         (None, 960)               0         \n",
      "                                                                 \n",
      " dropout_4 (Dropout)         (None, 960)               0         \n",
      "                                                                 \n",
      " hidden_layer1 (Dense)       (None, 40)                38440     \n",
      "                                                                 \n",
      " output (Dense)              (None, 1)                 41        \n",
      "                                                                 \n",
      "=================================================================\n",
      "Total params: 38,669\n",
      "Trainable params: 38,669\n",
      "Non-trainable params: 0\n",
      "_________________________________________________________________\n"
     ]
    }
   ],
   "source": [
    "# https://github.com/atomic14/diy-alexa/blob/master/model/Train%20Model.ipynb\n",
    "model = Sequential([\n",
    "    Conv2D(4, 3,\n",
    "           padding='same',\n",
    "           activation='relu',\n",
    "           kernel_regularizer=regularizers.l2(0.001),\n",
    "           name='conv_layer1',\n",
    "           #input_shape=(IMG_WIDTH, IMG_HEIGHT, 1)),\n",
    "           input_shape=inputShape),\n",
    "    MaxPooling2D(name='max_pooling1', pool_size=(2,2)),\n",
    "    Conv2D(4, 3,\n",
    "           padding='same',\n",
    "           activation='relu',\n",
    "           kernel_regularizer=regularizers.l2(0.001),\n",
    "           name='conv_layer2'),\n",
    "    MaxPooling2D(name='max_pooling2', pool_size=(2,2)),\n",
    "    Flatten(),\n",
    "    Dropout(0.2),\n",
    "    Dense(\n",
    "        40,\n",
    "        activation='relu',\n",
    "        kernel_regularizer=regularizers.l2(0.001),\n",
    "        name='hidden_layer1'\n",
    "    ),\n",
    "    Dense(\n",
    "        1, # TODO test 2 output nodes\n",
    "        activation='sigmoid',\n",
    "        kernel_regularizer=regularizers.l2(0.001),\n",
    "        name='output'\n",
    "    )\n",
    "])\n",
    "model.compile(optimizer=tf.keras.optimizers.Adam(),\n",
    "              loss=tf.keras.losses.BinaryCrossentropy(),\n",
    "              metrics=[[tf.keras.metrics.Recall(),tf.keras.metrics.Precision()]])\n",
    "\n",
    "model.summary()"
   ],
   "metadata": {
    "collapsed": false,
    "pycharm": {
     "name": "#%%\n"
    }
   }
  },
  {
   "cell_type": "code",
   "execution_count": 91,
   "outputs": [
    {
     "name": "stdout",
     "output_type": "stream",
     "text": [
      "Epoch 1/30\n",
      "24/24 [==============================] - 2s 29ms/step - loss: 0.7510 - recall_4: 0.2169 - precision_4: 0.4824 - val_loss: 0.7261 - val_recall_4: 0.0000e+00 - val_precision_4: 0.0000e+00\n",
      "Epoch 2/30\n",
      "24/24 [==============================] - 0s 17ms/step - loss: 0.7129 - recall_4: 0.3226 - precision_4: 0.5357 - val_loss: 0.7009 - val_recall_4: 0.6458 - val_precision_4: 0.5849\n",
      "Epoch 3/30\n",
      "24/24 [==============================] - 0s 17ms/step - loss: 0.6958 - recall_4: 0.4709 - precision_4: 0.5669 - val_loss: 0.6828 - val_recall_4: 0.9200 - val_precision_4: 0.6571\n",
      "Epoch 4/30\n",
      "24/24 [==============================] - 0s 17ms/step - loss: 0.6868 - recall_4: 0.5163 - precision_4: 0.5523 - val_loss: 0.6685 - val_recall_4: 0.5909 - val_precision_4: 0.6341\n",
      "Epoch 5/30\n",
      "24/24 [==============================] - 0s 19ms/step - loss: 0.6656 - recall_4: 0.5222 - precision_4: 0.5949 - val_loss: 0.6658 - val_recall_4: 0.7674 - val_precision_4: 0.5690\n",
      "Epoch 6/30\n",
      "24/24 [==============================] - 0s 20ms/step - loss: 0.6670 - recall_4: 0.6865 - precision_4: 0.5907 - val_loss: 0.6860 - val_recall_4: 0.5957 - val_precision_4: 0.5600\n",
      "Epoch 7/30\n",
      "24/24 [==============================] - 0s 20ms/step - loss: 0.6542 - recall_4: 0.7283 - precision_4: 0.5982 - val_loss: 0.6195 - val_recall_4: 0.8372 - val_precision_4: 0.5902\n",
      "Epoch 8/30\n",
      "24/24 [==============================] - 0s 20ms/step - loss: 0.6669 - recall_4: 0.6685 - precision_4: 0.5500 - val_loss: 0.6752 - val_recall_4: 1.0000 - val_precision_4: 0.5476\n",
      "Epoch 9/30\n",
      "24/24 [==============================] - 0s 20ms/step - loss: 0.6583 - recall_4: 0.7430 - precision_4: 0.5783 - val_loss: 0.6432 - val_recall_4: 0.7692 - val_precision_4: 0.6667\n",
      "Epoch 10/30\n",
      "24/24 [==============================] - 1s 22ms/step - loss: 0.6642 - recall_4: 0.7473 - precision_4: 0.5816 - val_loss: 0.6409 - val_recall_4: 0.9091 - val_precision_4: 0.6849\n",
      "Epoch 11/30\n",
      "24/24 [==============================] - 0s 20ms/step - loss: 0.6462 - recall_4: 0.7487 - precision_4: 0.6087 - val_loss: 0.6380 - val_recall_4: 0.7805 - val_precision_4: 0.5517\n",
      "Epoch 12/30\n",
      "24/24 [==============================] - 0s 20ms/step - loss: 0.6499 - recall_4: 0.7447 - precision_4: 0.5957 - val_loss: 0.6416 - val_recall_4: 0.8519 - val_precision_4: 0.6765\n",
      "Epoch 13/30\n",
      "24/24 [==============================] - 0s 19ms/step - loss: 0.6431 - recall_4: 0.7604 - precision_4: 0.6348 - val_loss: 0.6504 - val_recall_4: 0.8571 - val_precision_4: 0.6000\n",
      "Epoch 14/30\n",
      "24/24 [==============================] - 0s 20ms/step - loss: 0.6321 - recall_4: 0.8043 - precision_4: 0.6091 - val_loss: 0.6054 - val_recall_4: 0.6596 - val_precision_4: 0.6596\n",
      "Epoch 15/30\n",
      "24/24 [==============================] - 0s 20ms/step - loss: 0.6485 - recall_4: 0.7405 - precision_4: 0.5983 - val_loss: 0.6085 - val_recall_4: 0.8140 - val_precision_4: 0.6250\n",
      "Epoch 16/30\n",
      "24/24 [==============================] - 0s 20ms/step - loss: 0.6500 - recall_4: 0.7581 - precision_4: 0.5900 - val_loss: 0.6382 - val_recall_4: 0.9268 - val_precision_4: 0.5352\n",
      "Epoch 17/30\n",
      "24/24 [==============================] - 0s 20ms/step - loss: 0.6588 - recall_4: 0.8750 - precision_4: 0.5833 - val_loss: 0.6148 - val_recall_4: 0.8222 - val_precision_4: 0.6852\n",
      "Epoch 18/30\n",
      "24/24 [==============================] - 0s 20ms/step - loss: 0.6467 - recall_4: 0.8396 - precision_4: 0.5902 - val_loss: 0.6395 - val_recall_4: 0.6735 - val_precision_4: 0.6471\n",
      "Epoch 19/30\n",
      "24/24 [==============================] - 0s 21ms/step - loss: 0.6534 - recall_4: 0.7624 - precision_4: 0.5750 - val_loss: 0.6569 - val_recall_4: 0.7234 - val_precision_4: 0.5763\n",
      "Epoch 20/30\n",
      "24/24 [==============================] - 0s 20ms/step - loss: 0.6234 - recall_4: 0.7609 - precision_4: 0.6195 - val_loss: 0.6383 - val_recall_4: 0.6154 - val_precision_4: 0.4898\n",
      "Epoch 21/30\n",
      "24/24 [==============================] - 0s 20ms/step - loss: 0.6586 - recall_4: 0.8077 - precision_4: 0.5720 - val_loss: 0.6390 - val_recall_4: 0.8200 - val_precision_4: 0.6308\n",
      "Epoch 22/30\n",
      "24/24 [==============================] - 0s 20ms/step - loss: 0.6316 - recall_4: 0.7473 - precision_4: 0.6070 - val_loss: 0.6237 - val_recall_4: 0.8909 - val_precision_4: 0.6901\n",
      "Epoch 23/30\n",
      "24/24 [==============================] - 0s 20ms/step - loss: 0.6329 - recall_4: 0.8245 - precision_4: 0.5985 - val_loss: 0.6300 - val_recall_4: 0.7500 - val_precision_4: 0.5789\n",
      "Epoch 24/30\n",
      "24/24 [==============================] - 0s 20ms/step - loss: 0.6359 - recall_4: 0.7861 - precision_4: 0.6049 - val_loss: 0.6024 - val_recall_4: 0.8542 - val_precision_4: 0.6406\n",
      "Epoch 25/30\n",
      "24/24 [==============================] - 0s 20ms/step - loss: 0.6296 - recall_4: 0.7784 - precision_4: 0.6050 - val_loss: 0.6702 - val_recall_4: 0.6792 - val_precision_4: 0.6429\n",
      "Epoch 26/30\n",
      "24/24 [==============================] - 1s 21ms/step - loss: 0.6214 - recall_4: 0.7622 - precision_4: 0.6026 - val_loss: 0.6566 - val_recall_4: 0.7857 - val_precision_4: 0.5238\n",
      "Epoch 27/30\n",
      "24/24 [==============================] - 1s 21ms/step - loss: 0.6336 - recall_4: 0.8214 - precision_4: 0.6169 - val_loss: 0.6595 - val_recall_4: 0.9800 - val_precision_4: 0.5765\n",
      "Epoch 28/30\n",
      "24/24 [==============================] - 1s 21ms/step - loss: 0.6449 - recall_4: 0.8579 - precision_4: 0.5858 - val_loss: 0.5744 - val_recall_4: 0.7755 - val_precision_4: 0.7037\n",
      "Epoch 29/30\n",
      "24/24 [==============================] - 0s 20ms/step - loss: 0.6373 - recall_4: 0.8298 - precision_4: 0.6023 - val_loss: 0.6308 - val_recall_4: 0.8913 - val_precision_4: 0.5857\n",
      "Epoch 30/30\n",
      "24/24 [==============================] - 0s 20ms/step - loss: 0.6406 - recall_4: 0.7444 - precision_4: 0.5929 - val_loss: 0.6814 - val_recall_4: 0.9762 - val_precision_4: 0.5256\n",
      "1/1 [==============================] - 0s 68ms/step\n"
     ]
    },
    {
     "name": "stderr",
     "output_type": "stream",
     "text": [
      "WARNING:absl:Found untraced functions such as _jit_compiled_convolution_op, _jit_compiled_convolution_op, _update_step_xla while saving (showing 3 of 3). These functions will not be directly callable after loading.\n"
     ]
    },
    {
     "name": "stdout",
     "output_type": "stream",
     "text": [
      "INFO:tensorflow:Assets written to: C:\\Users\\Joerg\\AppData\\Local\\Temp\\tmpvv5y51hl\\model\\data\\model\\assets\n"
     ]
    },
    {
     "name": "stderr",
     "output_type": "stream",
     "text": [
      "INFO:tensorflow:Assets written to: C:\\Users\\Joerg\\AppData\\Local\\Temp\\tmpvv5y51hl\\model\\data\\model\\assets\n"
     ]
    }
   ],
   "source": [
    "hist = model.fit(train, epochs=30, validation_data=validation)"
   ],
   "metadata": {
    "collapsed": false,
    "pycharm": {
     "name": "#%%\n"
    }
   }
  },
  {
   "cell_type": "code",
   "execution_count": 92,
   "outputs": [
    {
     "name": "stdout",
     "output_type": "stream",
     "text": [
      "Sniffing Datasets: 82\n",
      "Background Datasets: 182\n",
      "Corrected Background Datasets: 82\n",
      "1/1 [==============================] - 0s 26ms/step\n",
      "1/1 [==============================] - 0s 25ms/step\n",
      "1/1 [==============================] - 0s 31ms/step\n",
      "1/1 [==============================] - 0s 27ms/step\n",
      "1/1 [==============================] - 0s 32ms/step\n",
      "1/1 [==============================] - 0s 29ms/step\n",
      "1/1 [==============================] - 0s 31ms/step\n",
      "1/1 [==============================] - 0s 28ms/step\n",
      "1/1 [==============================] - 0s 28ms/step\n",
      "1/1 [==============================] - 0s 27ms/step\n",
      "1/1 [==============================] - 0s 30ms/step\n",
      "0.9404761904761905\n"
     ]
    }
   ],
   "source": [
    "testData = generate_binary_dataset(trueDataDir=testSniffingDir, falseDataDir=testBackgroundDir)\n",
    "testData = batch_prefetch(testData)\n",
    "list_predictions = []\n",
    "list_true = []\n",
    "for i in range(testData.cardinality().numpy()):\n",
    "    X_test, y_test = testData.as_numpy_iterator().next()\n",
    "    testResult = map(lambda x: 1 if x > 0.5 else 0, model.predict(X_test))\n",
    "    list_predictions.extend(testResult)\n",
    "    list_true.extend(y_test)\n",
    "threshold_accuracy = calc_accuracy(list_predictions,list_true)\n",
    "#mlflow.log_param(\"Accuracy 0.5\", threshold_accuracy)\n",
    "print(threshold_accuracy)"
   ],
   "metadata": {
    "collapsed": false,
    "pycharm": {
     "name": "#%%\n"
    }
   }
  },
  {
   "cell_type": "code",
   "execution_count": 93,
   "outputs": [
    {
     "name": "stderr",
     "output_type": "stream",
     "text": [
      "WARNING:absl:Found untraced functions such as _jit_compiled_convolution_op, _jit_compiled_convolution_op, _update_step_xla while saving (showing 3 of 3). These functions will not be directly callable after loading.\n"
     ]
    },
    {
     "name": "stdout",
     "output_type": "stream",
     "text": [
      "INFO:tensorflow:Assets written to: C:\\Users\\Joerg\\Documents\\tmp\\SniffingDetector\\Detecting\\NeuralNetwork\\sniffing_model/1/assets\n"
     ]
    },
    {
     "name": "stderr",
     "output_type": "stream",
     "text": [
      "INFO:tensorflow:Assets written to: C:\\Users\\Joerg\\Documents\\tmp\\SniffingDetector\\Detecting\\NeuralNetwork\\sniffing_model/1/assets\n"
     ]
    },
    {
     "data": {
      "text/plain": "43448"
     },
     "execution_count": 93,
     "metadata": {},
     "output_type": "execute_result"
    }
   ],
   "source": [
    "savedModelDir = os.path.join(os.getcwd(), \"sniffing_model/1/\")\n",
    "tf.saved_model.save(model, savedModelDir)\n",
    "converter = tf.lite.TFLiteConverter.from_saved_model(savedModelDir)\n",
    "\n",
    "# Post Training Quantization\n",
    "# https://www.tensorflow.org/lite/performance/post_training_quantization\n",
    "# Integer with float fallback (using default float input/output)\n",
    "converter.optimizations = [tf.lite.Optimize.DEFAULT]\n",
    "converter.representative_dataset = representative_data_gen\n",
    "\n",
    "# Integer only\n",
    "# doesn't work here, as I have float32 input and want an output 0<= x <= 1\n",
    "# atomic14_converter.target_spec.supported_ops = [tf.lite.OpsSet.TFLITE_BUILTINS_INT8]\n",
    "# atomic14_converter.inference_input_type = tf.int8  # or tf.uint8\n",
    "# atomic14_converter.inference_output_type = tf.int8\n",
    "\n",
    "tflite_model = converter.convert()\n",
    "\n",
    "tflite_model_file = pathlib.Path('model.tflite')\n",
    "tflite_model_file.write_bytes(tflite_model)"
   ],
   "metadata": {
    "collapsed": false,
    "pycharm": {
     "name": "#%%\n"
    }
   }
  },
  {
   "cell_type": "code",
   "execution_count": 94,
   "outputs": [
    {
     "name": "stdout",
     "output_type": "stream",
     "text": [
      "0.96875\n"
     ]
    }
   ],
   "source": [
    "interpreter = tf.lite.Interpreter(model_content=tflite_model)\n",
    "interpreter.allocate_tensors()\n",
    "input_details = interpreter.get_input_details()\n",
    "output_details = interpreter.get_output_details()\n",
    "tinyResults = []\n",
    "tinyExpected = []\n",
    "for i in range(testData.cardinality().numpy()):\n",
    "    X_test, y_test = testData.as_numpy_iterator().next()\n",
    "    for j in range(len(X_test)):\n",
    "        interpreter.set_tensor(input_details[0]['index'], [X_test[j]])\n",
    "        interpreter.invoke()\n",
    "        tflite_result = interpreter.get_tensor(output_details[0]['index'])\n",
    "        tinyResults.append(1 if tflite_result[0][0] > 0.5 else 0)\n",
    "        tinyExpected.append(y_test[j])\n",
    "\n",
    "tinyAccuracy = calc_accuracy(tinyResults, tinyExpected)\n",
    "print(tinyAccuracy)"
   ],
   "metadata": {
    "collapsed": false,
    "pycharm": {
     "name": "#%%\n"
    }
   }
  },
  {
   "cell_type": "markdown",
   "source": [
    "Run `xxd -i model.tflite > model_data.cc` in git bash"
   ],
   "metadata": {
    "collapsed": false,
    "pycharm": {
     "name": "#%% md\n"
    }
   }
  },
  {
   "cell_type": "code",
   "execution_count": null,
   "outputs": [],
   "source": [],
   "metadata": {
    "collapsed": false,
    "pycharm": {
     "name": "#%%\n"
    }
   }
  }
 ],
 "metadata": {
  "kernelspec": {
   "display_name": "Python 3",
   "language": "python",
   "name": "python3"
  },
  "language_info": {
   "codemirror_mode": {
    "name": "ipython",
    "version": 2
   },
   "file_extension": ".py",
   "mimetype": "text/x-python",
   "name": "python",
   "nbconvert_exporter": "python",
   "pygments_lexer": "ipython2",
   "version": "2.7.6"
  }
 },
 "nbformat": 4,
 "nbformat_minor": 0
}